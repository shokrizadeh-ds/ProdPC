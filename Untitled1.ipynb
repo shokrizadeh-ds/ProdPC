{
 "cells": [
  {
   "cell_type": "code",
   "execution_count": 3,
   "metadata": {},
   "outputs": [],
   "source": [
    "from bs4 import BeautifulSoup as bs\n",
    "import os"
   ]
  },
  {
   "cell_type": "code",
   "execution_count": 4,
   "metadata": {},
   "outputs": [],
   "source": [
    "original_path = os.getcwd()\n",
    "\n",
    "xml_path = r'C:\\Users\\LI2BTL\\Documents\\Testing\\XML'\n",
    "\n",
    "os.chdir(xml_path)"
   ]
  },
  {
   "cell_type": "code",
   "execution_count": 9,
   "metadata": {},
   "outputs": [
    {
     "name": "stdout",
     "output_type": "stream",
     "text": [
      "--> NBMY620A.xml <--\n",
      "--> NBMY620H.xml <--\n",
      "--> NBMY620M.xml <--\n",
      "--> NBMY620Q.xml <--\n",
      "--> NBMY623Q.xml <--\n",
      "--> NBMY626Q.xml <--\n",
      "--> NBMY628Q.xml <--\n"
     ]
    }
   ],
   "source": [
    "for file in os.listdir():\n",
    "    print(f'--> {file} <--')\n",
    "    with open(file, 'r') as f:\n",
    "        content = f.read()"
   ]
  },
  {
   "cell_type": "code",
   "execution_count": null,
   "metadata": {},
   "outputs": [],
   "source": []
  }
 ],
 "metadata": {
  "kernelspec": {
   "display_name": "Python 3",
   "language": "python",
   "name": "python3"
  },
  "language_info": {
   "codemirror_mode": {
    "name": "ipython",
    "version": 3
   },
   "file_extension": ".py",
   "mimetype": "text/x-python",
   "name": "python",
   "nbconvert_exporter": "python",
   "pygments_lexer": "ipython3",
   "version": "3.7.4"
  }
 },
 "nbformat": 4,
 "nbformat_minor": 2
}
