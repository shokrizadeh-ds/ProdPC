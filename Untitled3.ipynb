{
 "cells": [
  {
   "cell_type": "code",
   "execution_count": 1,
   "metadata": {},
   "outputs": [],
   "source": [
    "source = ['Fichier1-source=A24130.IEG0080D.egt101xx', 'Fichier2-source=A24130.IEG0080D.egt102xx', 'Fichier3-source=A24130.IEG0080D.egt104xx', 'Fichier4-source=A24130.IEG0080D.egt108xx', 'Fichier5-source=A24130.IEG0080D.egt116xx', 'Fichier6-source=A24130.IEG0080D.egt122xx', 'Fichier7-source=A24130.IEG0080D.egt123xx', 'Fichier8-source=A24130.IEG0080D.rht102x0', 'Fichier9-source=A24130.IEG0080D.rht104x0', 'Fichier10-source=A24130.IEG0080D.rht104x1', 'Fichier11-source=A24130.IEG0080D.rht104x3', 'Fichier12-source=A24130.IEG0080D.rht104x4', 'Fichier13-source=A24130.IEG0080D.rht104x6', 'Fichier14-source=A24130.IEG0080D.rht104x7', 'Fichier15-source=A24130.IEG0080D.rht104x9', 'Fichier16-source=A24130.IEG0080D.rht105x0', 'Fichier17-source=A24130.IEG0080D.rht105x1', 'Fichier18-source=A24130.IEG0080D.rht105x3', 'Fichier19-source=A24130.IEG0080D.rht105x4', 'Fichier20-source=A24130.IEG0080D.rht105x7', 'Fichier21-source=A24130.IEG0080D.rht105x8', 'Fichier22-source=A24130.IEG0080D.rht105x9', 'Fichier23-source=A24130.IEG0080D.egt211xx', 'Fichier24-source=A24130.IEG0080D.egt212xx', 'Fichier25-source=A24130.IEG0080D.egt213x0', 'Fichier26-source=A24130.IEG0080D.rht105xb', 'Fichier27-source=A24130.IEG0080D.egt109xx', 'Fichier28-source=A24130.IEG0080D.rht105x6', 'Fichier29-source=A24130.IEG0080D.rht105xe', 'Fichier30-source=A24130.IEG0080D.rht105x2', 'Fichier31-source=A24130.IEG0080D.rht105xh', 'Fichier32-source=A24130.IEG0080D.rht105xi', 'Fichier33-source=A24130.IEG0080D.rht105xj', 'Fichier34-source=A24130.IEG0080D.egt215xx', 'Fichier35-source=A24130.IEG0080D.egt217xx', 'Fichier36-source=A24130.IEG0080D.rht1090_departements', 'Fichier37-source=A24130.IEG0080D.rht105xl', 'Fichier38-source=A24130.IEG0080D.rht105xs', 'Fichier39-source=A24130.IEG0080D.rht105xk', 'Fichier40-source=A24130.IEG0080D.egt130xx', 'Fichier41-source=A24130.IEG0080D.rht104xa', 'Fichier42-source=A24130.IEG0080D.rht104xm', 'Fichier43-source=A24130.IEG0080D.rht105xt', 'Fichier44-source=A24130.IEG0080D.rht105xu', 'Fichier45-source=A24130.IEG0080D.rht105xv', 'Fichier46-source=A24130.IEG0080D.rht105xw', 'Fichier47-source=A24130.IEG0080D.rht105xx', 'Fichier48-source=A24130.IEG0080D.rht105x5', 'Fichier49-source=A24130.IEG0080D.rht105xd']"
   ]
  },
  {
   "cell_type": "code",
   "execution_count": 3,
   "metadata": {},
   "outputs": [],
   "source": [
    "dest = ['Fichier1-destination=fich1', 'Fichier2-destination=fich2', 'Fichier3-destination=fich3', 'Fichier4-destination=fich4', 'Fichier5-destination=fich5', 'Fichier6-destination=fich6', 'Fichier7-destination=fich7', 'Fichier8-destination=fich8', 'Fichier9-destination=fich9', 'Fichier10-destination=fich10', 'Fichier11-destination=fich11', 'Fichier12-destination=fich12', 'Fichier13-destination=fich13', 'Fichier14-destination=fich14', 'Fichier15-destination=fich15', 'Fichier16-destination=fich16', 'Fichier17-destination=fich17', 'Fichier18-destination=fich18', 'Fichier19-destination=fich19', 'Fichier20-destination=fich20', 'Fichier21-destination=fich21', 'Fichier22-destination=fich22', 'Fichier23-destination=fich23', 'Fichier24-destination=fich24', 'Fichier25-destination=fich25', 'Fichier26-destination=fich26', 'Fichier27-destination=fich27', 'Fichier28-destination=fich28', 'Fichier29-destination=fich29', 'Fichier30-destination=fich30', 'Fichier31-destination=fich31', 'Fichier32-destination=fich32', 'Fichier33-destination=fich33', 'Fichier34-destination=fich34', 'Fichier35-destination=fich35', 'Fichier36-destination=fich36', 'Fichier37-destination=fich37', 'Fichier38-destination=fich38', 'Fichier39-destination=fich39', 'Fichier40-destination=fich40', 'Fichier41-destination=fich41', 'Fichier42-destination=fich42', 'Fichier43-destination=fich43', 'Fichier44-destination=fich44', 'Fichier45-destination=fich45', 'Fichier46-destination=fich46', 'Fichier47-destination=fich47', 'Fichier48-destination=fich48', 'Fichier49-destination=fich49']"
   ]
  },
  {
   "cell_type": "code",
   "execution_count": 5,
   "metadata": {},
   "outputs": [
    {
     "data": {
      "text/plain": [
       "True"
      ]
     },
     "execution_count": 5,
     "metadata": {},
     "output_type": "execute_result"
    }
   ],
   "source": [
    "len(source) == len(dest)"
   ]
  },
  {
   "cell_type": "code",
   "execution_count": 6,
   "metadata": {},
   "outputs": [],
   "source": [
    "r = []\n",
    "\n",
    "path = r'C:\\Users\\LI2BTL\\Documents\\EL Kabir\\Modified INI\\info.txt'\n",
    "\n",
    "with open(path, 'a') as f:\n",
    "    for i in range(len(source)):\n",
    "        f.write(source[i] + '\\n')\n",
    "        f.write(dest[i] + '\\n')\n",
    "    "
   ]
  },
  {
   "cell_type": "code",
   "execution_count": 8,
   "metadata": {},
   "outputs": [],
   "source": [
    "def corection(file, source, dest):\n",
    "    path = 'C:\\\\Users\\\\LI2BTL\\\\Documents\\\\EL Kabir\\\\Modified INI\\\\{}.txt'.format(file)\n",
    "\n",
    "    with open(path, 'a') as f:\n",
    "        for i in range(len(source)):\n",
    "            f.write(source[i] + '\\n')\n",
    "            f.write(dest[i] + '\\n')"
   ]
  },
  {
   "cell_type": "code",
   "execution_count": 9,
   "metadata": {},
   "outputs": [],
   "source": [
    "corection('Info_Test', source, dest)"
   ]
  },
  {
   "cell_type": "code",
   "execution_count": null,
   "metadata": {},
   "outputs": [],
   "source": []
  }
 ],
 "metadata": {
  "kernelspec": {
   "display_name": "Python 3",
   "language": "python",
   "name": "python3"
  },
  "language_info": {
   "codemirror_mode": {
    "name": "ipython",
    "version": 3
   },
   "file_extension": ".py",
   "mimetype": "text/x-python",
   "name": "python",
   "nbconvert_exporter": "python",
   "pygments_lexer": "ipython3",
   "version": "3.7.4"
  }
 },
 "nbformat": 4,
 "nbformat_minor": 2
}
