{
 "cells": [
  {
   "cell_type": "code",
   "execution_count": 1,
   "metadata": {},
   "outputs": [],
   "source": [
    "import os"
   ]
  },
  {
   "cell_type": "code",
   "execution_count": 17,
   "metadata": {},
   "outputs": [],
   "source": [
    "file = r'\\\\ia.iafg.net\\r01\\Svc\\SCOPC-PRODPC\\FERME04\\TST5\\IN\\LOGS\\210112.MEN\\IINM511Q.log'"
   ]
  },
  {
   "cell_type": "markdown",
   "metadata": {},
   "source": [
    "    import shutil\n",
    "\n",
    "    for item in fileList:\n",
    "        shutil.copy(item[0], \"/Users/username/Desktop/testPhotos\")"
   ]
  },
  {
   "cell_type": "code",
   "execution_count": 18,
   "metadata": {},
   "outputs": [
    {
     "data": {
      "text/plain": [
       "'C:\\\\Users\\\\LI2BTL\\\\OneDrive - Industrial Alliance\\\\Documents\\\\Tide Test\\\\Final\\\\OUTPUT\\\\Test5 Log Files\\\\IINM511Q.log'"
      ]
     },
     "execution_count": 18,
     "metadata": {},
     "output_type": "execute_result"
    }
   ],
   "source": [
    "import shutil\n",
    "\n",
    "dest_directory = r'C:\\Users\\LI2BTL\\OneDrive - Industrial Alliance\\Documents\\Tide Test\\Final\\OUTPUT\\Test5 Log Files'\n",
    "\n",
    "shutil.copy(file, dest_directory)"
   ]
  },
  {
   "cell_type": "code",
   "execution_count": null,
   "metadata": {},
   "outputs": [],
   "source": []
  },
  {
   "cell_type": "code",
   "execution_count": null,
   "metadata": {},
   "outputs": [],
   "source": []
  },
  {
   "cell_type": "code",
   "execution_count": 19,
   "metadata": {},
   "outputs": [
    {
     "name": "stdout",
     "output_type": "stream",
     "text": [
      "YYYYMMDD HHMMSS    JOB    STEP     PROG   ST RET  T  G  DEST   *** START OF IINM511Q \\ IINM511Q ***\n",
      "20210112 104615 IINM511Q ETAPE000          01 0000 CO    SVA1270 - Ferme-04\\PPCI09\n",
      "20210112 104615 IINM511Q          PRODPC      0000 ME 00 AO    Début du programme UTMDPN05\n",
      "20210112 104616 IINM511Q          PRODPC   01 0000 CO 00       \n",
      "20210112 104616 IINM511Q          PRODPC      0000 ME 00 AO    Début du programme PRODPC. (Version IUTP1146 : 1.1.7325.20561)\n",
      "20210112 104616 IINM511Q          PRODPC      0000 ME 00       =================================================\n",
      "20210112 104616 IINM511Q          PRODPC      0000 ME 00 AO    Programme PRODPC terminé normalement sans erreur.\n",
      "20210112 104616 IINM511Q          PRODPC   99 0000 CO 00       \n",
      "20210112 104616 IINM511Q          PRODPC      0000 ME 00 AO    Programme UTMDPN05 terminé\n",
      "20210112 104616 IINM511Q ETAPE010 PRODPC      0000 ME 00 AO    Aucune condition détectée, utilisation de la condition par défaut <ConditionCodeRetourTravail=0>\n",
      "20210112 104616 IINM511Q ETAPE010 PRODPC      0000 ME 00 AO    Validation de la condition \"Le code de retour actuel du travail doit être l’un des suivants : 0.\" pour l’étape ETAPE010.\n",
      "20210112 104616 IINM511Q ETAPE010 PRODPC      0000 ME 00 AO    Exécution du programme : \\\\ia.iafg.net\\r01\\svc\\scopc-prodpc\\ferme04\\TST5\\UT\\PROD_PC\\EXE\\UTMDPN14\\UTMDPN14.exe.\n",
      "20210112 104616 IINM511Q ETAPE010 UTMDPN14 01 0000 CO 00       \n",
      "20210112 104616 IINM511Q ETAPE010 UTMDPN14    0000 ME 00 AO    Début du programme UTMDPN14. (Version IUTP1146 : 1.1.7122.23286)\n",
      "20210112 104616 IINM511Q ETAPE010 UTMDPN14    0000 ME 00       =================================================\n",
      "20210112 104616 IINM511Q ETAPE010 UTMDPN14    0000 ME 00 AO    Initialisation\n",
      "20210112 104616 IINM511Q ETAPE010 UTMDPN14    0000 ME 00       =================================================\n",
      "20210112 104616 IINM511Q ETAPE010 UTMDPN14    0000 ME 00 AO    Lecture des paramètres\n",
      "20210112 104616 IINM511Q ETAPE010 UTMDPN14    0000 ME 00 AO    Lecture du paramètre 'Travail --> repertoire-defaut'.\n",
      "20210112 104616 IINM511Q ETAPE010 UTMDPN14    0000 ME 00 AO    Lecture du paramètre 'repertoire-defaut'.\n",
      "20210112 104616 IINM511Q ETAPE010 UTMDPN14    0000 ME 00 AO    Lecture du paramètre 'max-wait'.\n",
      "20210112 104616 IINM511Q ETAPE010 UTMDPN14    0000 ME 00 AO    Lecture du paramètre 'max-int'.\n",
      "20210112 104616 IINM511Q ETAPE010 UTMDPN14    0000 ME 00 AO    Lecture du paramètre 'reseau'.\n",
      "20210112 104616 IINM511Q ETAPE010 UTMDPN14    0000 ME 00       =================================================\n",
      "20210112 104616 IINM511Q ETAPE010 UTMDPN14    0000 ME 00 AO    Traitement principal\n",
      "20210112 104616 IINM511Q ETAPE010 UTMDPN14    0000 ME 00       =================================================\n",
      "20210112 104616 IINM511Q ETAPE010 UTMDPN14    0000 ME 00 AO    Programme UTMDPN14 terminé normalement sans erreur.\n",
      "20210112 104616 IINM511Q ETAPE010 UTMDPN14 99 0000 CO 00       \n",
      "20210112 104616 IINM511Q ETAPE020 PRODPC      0000 ME 00 AO    Aucune condition détectée, utilisation de la condition par défaut <ConditionCodeRetourTravail=0>\n",
      "20210112 104616 IINM511Q ETAPE020 PRODPC      0000 ME 00 AO    Validation de la condition \"Le code de retour actuel du travail doit être l’un des suivants : 0.\" pour l’étape ETAPE020.\n",
      "20210112 104616 IINM511Q ETAPE020 PRODPC      0000 ME 00 AO    Exécution du programme : \\\\ia.iafg.net\\r01\\svc\\scopc-prodpc\\ferme04\\TST5\\SY\\PROD_PC\\EXE\\SYMDPV24\\SYMDPV24.exe.\n",
      "20210112 104616 IINM511Q ETAPE020 SYMDPV24    0000 ME 00 AO    =================================================\n",
      "20210112 104616 IINM511Q ETAPE020 SYMDPV24    0000 ME 00 AO    Lecture des paramètres...\n",
      "20210112 104616 IINM511Q ETAPE020 SYMDPV24    0000 ME 08 AO    >>> Erreur (Code08) [Ini.LireSection] L'appel à la méthode LireSection() a échoué pour la section SYMDPV24 du fichier ini C:\\Users\\PPCI09\\AppData\\Local\\ProdPC\\IINM511Q.ini\n",
      "20210112 104616 IINM511Q ETAPE020 SYMDPV24    0000 ME 08 AO    >>> Erreur (Code08) Programme SYMDPV24 terminé normalement avec des erreurs mineures.\n",
      "20210112 104616 IINM511Q ETAPE020 SYMDPV24 80 0008 CO 00       \n",
      "20210112 104616 IINM511Q ETAPE020 PRODPC      0000 ME 08 AO    >>> Erreur (Code08) Fin anormale du programme SYMDPV24.\n",
      "20210112 104616 IINM511Q ETAPE020 PRODPC      0000 ME 08 AO    >>> Erreur (Code08) Le programme SYMDPV24 se termine anormalement.\n",
      "20210112 104616 IINM511Q ETAPE020 PRODPC      0000 ME 00 AO    Étape en erreur, reprise automatique à l’étape ETAPE020\n",
      "\n"
     ]
    }
   ],
   "source": [
    "with open(file, 'r') as f:\n",
    "    content = f.read()\n",
    "    \n",
    "print(content)    "
   ]
  },
  {
   "cell_type": "code",
   "execution_count": null,
   "metadata": {},
   "outputs": [],
   "source": []
  }
 ],
 "metadata": {
  "kernelspec": {
   "display_name": "Python 3",
   "language": "python",
   "name": "python3"
  },
  "language_info": {
   "codemirror_mode": {
    "name": "ipython",
    "version": 3
   },
   "file_extension": ".py",
   "mimetype": "text/x-python",
   "name": "python",
   "nbconvert_exporter": "python",
   "pygments_lexer": "ipython3",
   "version": "3.8.5"
  }
 },
 "nbformat": 4,
 "nbformat_minor": 4
}
