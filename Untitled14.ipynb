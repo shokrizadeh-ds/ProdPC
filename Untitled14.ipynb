{
 "cells": [
  {
   "cell_type": "code",
   "execution_count": 6,
   "metadata": {},
   "outputs": [],
   "source": [
    "import jinja2"
   ]
  },
  {
   "cell_type": "code",
   "execution_count": 7,
   "metadata": {},
   "outputs": [],
   "source": [
    "from jinja2 import Template"
   ]
  },
  {
   "cell_type": "code",
   "execution_count": 8,
   "metadata": {},
   "outputs": [],
   "source": [
    "temp = Template('''\n",
    "  DESCRIPTION\n",
    "\n",
    ";  {{ name }}.WBT\n",
    ";*********************************************************************\n",
    "; Synchronisation des participants Tide/Tango\n",
    ";*********************************************************************\n",
    ";************************************\n",
    ";************************************\n",
    "\n",
    "{% for step in etapes %}\n",
    "\t{{ step.etape }}\t{{ step.job }}\n",
    "{% endfor %}\n",
    "\n",
    "\n",
    "  REPRISE PREMIER NIVEAU\n",
    "\n",
    "OUI\n",
    "\n",
    "  APPEL DEUXIEME NIVEAU\n",
    "\n",
    "NON\n",
    "\n",
    "  INSTRUCTIONS DE REPRISE\n",
    "\n",
    "===> INTERRUPTION           REPRISE\n",
    "     JOBSTEP                JOBSTEP\n",
    "______(étape) (pgm)_________________________________________________\n",
    "{% for step in etapes %}\n",
    "===> {{ step.etape }}\t{{ step[\"job\"] }}     {{step[\"reprise\"]}}\n",
    "\n",
    "____________________________________________________________________\n",
    "{% endfor %}\n",
    "\n",
    "  ETAPES DE REPRISE\n",
    "\n",
    "{% for step in etapes %}\n",
    "\t{{ step.etape }}\tO\n",
    "{% endfor %}\n",
    "''')"
   ]
  },
  {
   "cell_type": "code",
   "execution_count": 9,
   "metadata": {},
   "outputs": [],
   "source": [
    "etapes = [\n",
    "    {\"etape\": \"ETAPE000\", \"job\": \"ICOP0420\", \"reprise\": \"ETAPE000\"},\n",
    "    {\"etape\": \"ETAPE010\", \"job\": \"UTMDPN14\", \"reprise\": \"ETAPE010\"},\n",
    "    {\"etape\": \"ETAPE020\", \"job\": \"SYMDPV24\", \"reprise\": \"ETAPE020\"},\n",
    "    {\"etape\": \"ETAPE030\", \"job\": \"UTMDPN06\", \"reprise\": \"ETAPE900\"},\n",
    "    {\"etape\": \"ETAPEFIN\", \"job\": \"ICOP0420\", \"reprise\": \"ETAPEFIN\"}\n",
    "]"
   ]
  },
  {
   "cell_type": "code",
   "execution_count": 10,
   "metadata": {},
   "outputs": [
    {
     "name": "stdout",
     "output_type": "stream",
     "text": [
      "\n",
      "  DESCRIPTION\n",
      "\n",
      ";  iinm003q.WBT\n",
      ";*********************************************************************\n",
      "; Synchronisation des participants Tide/Tango\n",
      ";*********************************************************************\n",
      ";************************************\n",
      ";************************************\n",
      "\n",
      "\n",
      "\tETAPE000\tICOP0420\n",
      "\n",
      "\tETAPE010\tUTMDPN14\n",
      "\n",
      "\tETAPE020\tSYMDPV24\n",
      "\n",
      "\tETAPE030\tUTMDPN06\n",
      "\n",
      "\tETAPEFIN\tICOP0420\n",
      "\n",
      "\n",
      "\n",
      "  REPRISE PREMIER NIVEAU\n",
      "\n",
      "OUI\n",
      "\n",
      "  APPEL DEUXIEME NIVEAU\n",
      "\n",
      "NON\n",
      "\n",
      "  INSTRUCTIONS DE REPRISE\n",
      "\n",
      "===> INTERRUPTION           REPRISE\n",
      "     JOBSTEP                JOBSTEP\n",
      "______(étape) (pgm)_________________________________________________\n",
      "\n",
      "===> ETAPE000\tICOP0420     ETAPE000\n",
      "\n",
      "____________________________________________________________________\n",
      "\n",
      "===> ETAPE010\tUTMDPN14     ETAPE010\n",
      "\n",
      "____________________________________________________________________\n",
      "\n",
      "===> ETAPE020\tSYMDPV24     ETAPE020\n",
      "\n",
      "____________________________________________________________________\n",
      "\n",
      "===> ETAPE030\tUTMDPN06     ETAPE900\n",
      "\n",
      "____________________________________________________________________\n",
      "\n",
      "===> ETAPEFIN\tICOP0420     ETAPEFIN\n",
      "\n",
      "____________________________________________________________________\n",
      "\n",
      "\n",
      "  ETAPES DE REPRISE\n",
      "\n",
      "\n",
      "\tETAPE000\tO\n",
      "\n",
      "\tETAPE010\tO\n",
      "\n",
      "\tETAPE020\tO\n",
      "\n",
      "\tETAPE030\tO\n",
      "\n",
      "\tETAPEFIN\tO\n",
      "\n"
     ]
    }
   ],
   "source": [
    "print(temp.render(etapes=etapes, name='iinm003q'))"
   ]
  },
  {
   "cell_type": "code",
   "execution_count": 11,
   "metadata": {},
   "outputs": [],
   "source": [
    "from jinja2 import Environment, FileSystemLoader\n",
    "\n",
    "Template_file = '625_template.txt'\n",
    "\n",
    "file_loader = FileSystemLoader(r'C:\\Users\\LI2BTL\\template')\n",
    "\n",
    "env = Environment(loader=file_loader)\n",
    "\n",
    "template = env.get_template(Template_file)\n",
    "\n",
    "# prodpc={'name' : 'NG1Y800M'}\n",
    "# output = template.render(prodpc=prodpc)\n",
    "\n",
    "# job = {'jb': jobs024}"
   ]
  },
  {
   "cell_type": "code",
   "execution_count": null,
   "metadata": {},
   "outputs": [],
   "source": []
  },
  {
   "cell_type": "code",
   "execution_count": 12,
   "metadata": {},
   "outputs": [
    {
     "data": {
      "text/plain": [
       "'  DESCRIPTION\\n\\n;  {{ name }}.WBT\\n;*********************************************************************\\n; Synchronisation des participants Tide/Tango\\n;*********************************************************************\\n;************************************\\n;************************************\\n\\n{% for step in etapes %}\\n\\t{{ step.etape }}\\t{{ step.job }}\\n{% endfor %}\\n\\n\\n  REPRISE PREMIER NIVEAU\\n\\nOUI\\n\\n  APPEL DEUXIEME NIVEAU\\n\\nNON\\n\\n  INSTRUCTIONS DE REPRISE\\n\\n===> INTERRUPTION           REPRISE\\n     JOBSTEP                JOBSTEP\\n______(Ã©tape) (pgm)_________________________________________________\\n{% for step in etapes %}\\n===> {{ step.etape }}\\t{{ step[\"job\"] }}     {{step[\"reprise\"]}}\\n\\n____________________________________________________________________\\n{% endfor %}\\n\\n  ETAPES DE REPRISE\\n\\n{% for step in etapes %}\\n\\t{{ step.etape }}\\tO\\n{% endfor %}'"
      ]
     },
     "execution_count": 12,
     "metadata": {},
     "output_type": "execute_result"
    }
   ],
   "source": [
    "with open(Template_file, 'r') as f:\n",
    "    content = f.read()\n",
    "    \n",
    "content"
   ]
  },
  {
   "cell_type": "code",
   "execution_count": 13,
   "metadata": {},
   "outputs": [],
   "source": [
    "# prodpc={'name' : 'NG1Y800M'}\n",
    "# output = template.render(prodpc=prodpc)"
   ]
  },
  {
   "cell_type": "code",
   "execution_count": 14,
   "metadata": {},
   "outputs": [],
   "source": [
    "output = template.render(etapes=etapes, name='iinm003q')"
   ]
  },
  {
   "cell_type": "code",
   "execution_count": 15,
   "metadata": {},
   "outputs": [
    {
     "name": "stdout",
     "output_type": "stream",
     "text": [
      "  DESCRIPTION\n",
      "\n",
      ";  iinm003q.WBT\n",
      ";*********************************************************************\n",
      "; Synchronisation des participants Tide/Tango\n",
      ";*********************************************************************\n",
      ";************************************\n",
      ";************************************\n",
      "\n",
      "\n",
      "\tETAPE000\tICOP0420\n",
      "\n",
      "\tETAPE010\tUTMDPN14\n",
      "\n",
      "\tETAPE020\tSYMDPV24\n",
      "\n",
      "\tETAPE030\tUTMDPN06\n",
      "\n",
      "\tETAPEFIN\tICOP0420\n",
      "\n",
      "\n",
      "\n",
      "  REPRISE PREMIER NIVEAU\n",
      "\n",
      "OUI\n",
      "\n",
      "  APPEL DEUXIEME NIVEAU\n",
      "\n",
      "NON\n",
      "\n",
      "  INSTRUCTIONS DE REPRISE\n",
      "\n",
      "===> INTERRUPTION           REPRISE\n",
      "     JOBSTEP                JOBSTEP\n",
      "______(étape) (pgm)_________________________________________________\n",
      "\n",
      "===> ETAPE000\tICOP0420     ETAPE000\n",
      "\n",
      "____________________________________________________________________\n",
      "\n",
      "===> ETAPE010\tUTMDPN14     ETAPE010\n",
      "\n",
      "____________________________________________________________________\n",
      "\n",
      "===> ETAPE020\tSYMDPV24     ETAPE020\n",
      "\n",
      "____________________________________________________________________\n",
      "\n",
      "===> ETAPE030\tUTMDPN06     ETAPE900\n",
      "\n",
      "____________________________________________________________________\n",
      "\n",
      "===> ETAPEFIN\tICOP0420     ETAPEFIN\n",
      "\n",
      "____________________________________________________________________\n",
      "\n",
      "\n",
      "  ETAPES DE REPRISE\n",
      "\n",
      "\n",
      "\tETAPE000\tO\n",
      "\n",
      "\tETAPE010\tO\n",
      "\n",
      "\tETAPE020\tO\n",
      "\n",
      "\tETAPE030\tO\n",
      "\n",
      "\tETAPEFIN\tO\n",
      "\n"
     ]
    }
   ],
   "source": [
    "print(output)"
   ]
  },
  {
   "cell_type": "code",
   "execution_count": 16,
   "metadata": {},
   "outputs": [],
   "source": [
    "def write_output(output, file_name):\n",
    "    with open(file_name, 'w') as f:\n",
    "        f.write(output)"
   ]
  },
  {
   "cell_type": "code",
   "execution_count": 37,
   "metadata": {},
   "outputs": [],
   "source": [
    "etapes = [\n",
    "    {\"etape\": \"ETAPE000\", \"job\": \"UTMDPN14\", \"reprise\": \"ETAPE000\"},\n",
    "    {\"etape\": \"ETAPE010\", \"job\": \"INMDPP08\", \"reprise\": \"ETAPE010\"},\n",
    "    {\"etape\": \"ETAPE020\", \"job\": \"OEMDPV02\", \"reprise\": \"ETAPE020\"},\n",
    "    {\"etape\": \"ETAPE030\", \"job\": \"UTMDPN07\", \"reprise\": \"ETAPE030\"},\n",
    "    {\"etape\": \"ETAPE999\", \"job\": \"UTMDPN06\", \"reprise\": \"ETAPE999\"}\n",
    "]"
   ]
  },
  {
   "cell_type": "code",
   "execution_count": 38,
   "metadata": {},
   "outputs": [],
   "source": [
    "file_name = r'C:\\Users\\LI2BTL\\OneDrive - Industrial Alliance\\Documents\\Tide Test\\625\\Modified\\IINM008Q.625'\n",
    "\n",
    "output = template.render(etapes=etapes, name='IINM008Q')"
   ]
  },
  {
   "cell_type": "code",
   "execution_count": 41,
   "metadata": {},
   "outputs": [],
   "source": [
    "write_output(output=output, file_name=file_name)"
   ]
  },
  {
   "cell_type": "code",
   "execution_count": null,
   "metadata": {},
   "outputs": [],
   "source": []
  },
  {
   "cell_type": "code",
   "execution_count": null,
   "metadata": {},
   "outputs": [],
   "source": []
  },
  {
   "cell_type": "code",
   "execution_count": 42,
   "metadata": {},
   "outputs": [],
   "source": [
    "etapes = [\n",
    "    {\"etape\": \"ETAPE000\", \"job\": \"UTMDPN14\", \"reprise\": \"ETAPE000\"},\n",
    "    {\"etape\": \"ETAPE010\", \"job\": \"inmdpp12\", \"reprise\": \"ETAPE010\"},\n",
    "    {\"etape\": \"ETAPE020\", \"job\": \"UTMDPN08\", \"reprise\": \"ETAPE020\"},\n",
    "    {\"etape\": \"ETAPE030\", \"job\": \"UTMDPN07\", \"reprise\": \"ETAPE030\"},\n",
    "    {\"etape\": \"ETAPE999\", \"job\": \"UTMDPN06\", \"reprise\": \"ETAPE999\"}\n",
    "]"
   ]
  },
  {
   "cell_type": "code",
   "execution_count": 43,
   "metadata": {},
   "outputs": [],
   "source": [
    "file_name = r'C:\\Users\\LI2BTL\\OneDrive - Industrial Alliance\\Documents\\Tide Test\\625\\Modified\\IINM015Q.625'\n",
    "\n",
    "output = template.render(etapes=etapes, name='IINM015Q')\n",
    "\n",
    "write_output(output=output, file_name=file_name)"
   ]
  },
  {
   "cell_type": "code",
   "execution_count": null,
   "metadata": {},
   "outputs": [],
   "source": []
  },
  {
   "cell_type": "code",
   "execution_count": null,
   "metadata": {},
   "outputs": [],
   "source": []
  },
  {
   "cell_type": "code",
   "execution_count": 44,
   "metadata": {},
   "outputs": [],
   "source": [
    "etapes = [\n",
    "    {\"etape\": \"ETAPE000\", \"job\": \"UTMDPN14\", \"reprise\": \"ETAPE000\"},\n",
    "    {\"etape\": \"ETAPE010\", \"job\": \"inmdpp23\", \"reprise\": \"ETAPE010\"},\n",
    "    {\"etape\": \"ETAPE020\", \"job\": \"UTMDPN08\", \"reprise\": \"ETAPE020\"},\n",
    "    {\"etape\": \"ETAPE999\", \"job\": \"ICOP0420\", \"reprise\": \"ETAPE999\"}\n",
    "]\n",
    "\n",
    "\n",
    "\n",
    "file_name = r'C:\\Users\\LI2BTL\\OneDrive - Industrial Alliance\\Documents\\Tide Test\\625\\Modified\\IINM023M.625'\n",
    "\n",
    "output = template.render(etapes=etapes, name='IINM023M')\n",
    "\n",
    "write_output(output=output, file_name=file_name)"
   ]
  },
  {
   "cell_type": "code",
   "execution_count": null,
   "metadata": {},
   "outputs": [],
   "source": []
  },
  {
   "cell_type": "code",
   "execution_count": null,
   "metadata": {},
   "outputs": [],
   "source": []
  },
  {
   "cell_type": "code",
   "execution_count": null,
   "metadata": {},
   "outputs": [],
   "source": []
  },
  {
   "cell_type": "code",
   "execution_count": null,
   "metadata": {},
   "outputs": [],
   "source": []
  },
  {
   "cell_type": "code",
   "execution_count": 45,
   "metadata": {},
   "outputs": [],
   "source": [
    "etapes = [\n",
    "    {\"etape\": \"ETAPE000\", \"job\": \"ICOP0420\", \"reprise\": \"ETAPE000\"},\n",
    "    {\"etape\": \"ETAPE010\", \"job\": \"UTMDPN14\", \"reprise\": \"ETAPE010\"},\n",
    "    {\"etape\": \"ETAPE020\", \"job\": \"SYMDPN03\", \"reprise\": \"ETAPE020\"},\n",
    "    {\"etape\": \"ETAPE999\", \"job\": \"ICOP0420\", \"reprise\": \"ETAPE999\"}\n",
    "]\n",
    "\n",
    "\n",
    "\n",
    "file_name = r'C:\\Users\\LI2BTL\\OneDrive - Industrial Alliance\\Documents\\Tide Test\\625\\Modified\\IINM900Q.625'\n",
    "\n",
    "output = template.render(etapes=etapes, name='IINM900Q')\n",
    "\n",
    "write_output(output=output, file_name=file_name)"
   ]
  },
  {
   "cell_type": "code",
   "execution_count": null,
   "metadata": {},
   "outputs": [],
   "source": []
  },
  {
   "cell_type": "code",
   "execution_count": null,
   "metadata": {},
   "outputs": [],
   "source": []
  },
  {
   "cell_type": "code",
   "execution_count": 46,
   "metadata": {},
   "outputs": [],
   "source": [
    "etapes = [\n",
    "    {\"etape\": \"ETAPE000\", \"job\": \"ICOP0420\", \"reprise\": \"ETAPE000\"},\n",
    "    {\"etape\": \"ETAPE010\", \"job\": \"UTMDPN14\", \"reprise\": \"ETAPE010\"},\n",
    "    {\"etape\": \"ETAPE020\", \"job\": \"INMDPP19\", \"reprise\": \"ETAPE020\"},\n",
    "    {\"etape\": \"ETAPE030\", \"job\": \"UTMDPN08\", \"reprise\": \"ETAPE030\"},\n",
    "    {\"etape\": \"ETAPE040\", \"job\": \"UTMDPV26\", \"reprise\": \"ETAPE040\"},\n",
    "    {\"etape\": \"ETAPE050\", \"job\": \"UTMDPN06\", \"reprise\": \"ETAPE050\"},\n",
    "    {\"etape\": \"ETAPEFIN\", \"job\": \"ICOP0420\", \"reprise\": \"ETAPEFIN\"}\n",
    "]\n",
    "\n",
    "\n",
    "\n",
    "file_name = r'C:\\Users\\LI2BTL\\OneDrive - Industrial Alliance\\Documents\\Tide Test\\625\\Modified\\NINM036Q.625'\n",
    "\n",
    "output = template.render(etapes=etapes, name='NINM036Q')\n",
    "\n",
    "write_output(output=output, file_name=file_name)"
   ]
  },
  {
   "cell_type": "code",
   "execution_count": null,
   "metadata": {},
   "outputs": [],
   "source": []
  },
  {
   "cell_type": "code",
   "execution_count": null,
   "metadata": {},
   "outputs": [],
   "source": []
  },
  {
   "cell_type": "code",
   "execution_count": null,
   "metadata": {},
   "outputs": [],
   "source": []
  },
  {
   "cell_type": "code",
   "execution_count": 47,
   "metadata": {},
   "outputs": [],
   "source": [
    "etapes = [\n",
    "    {\"etape\": \"ETAPE000\", \"job\": \"UTMDPN14\", \"reprise\": \"ETAPE000\"},\n",
    "    {\"etape\": \"ETAPE010\", \"job\": \"inmdpp23\", \"reprise\": \"ETAPE010\"},\n",
    "    {\"etape\": \"ETAPE020\", \"job\": \"UTMDPN08\", \"reprise\": \"ETAPE020\"},\n",
    "    {\"etape\": \"ETAPE999\", \"job\": \"ICOP0420\", \"reprise\": \"ETAPE999\"}\n",
    "]\n",
    "\n",
    "\n",
    "\n",
    "file_name = r'C:\\Users\\LI2BTL\\OneDrive - Industrial Alliance\\Documents\\Tide Test\\625\\Modified\\IINM023M.625'\n",
    "\n",
    "output = template.render(etapes=etapes, name='IINM023M')\n",
    "\n",
    "write_output(output=output, file_name=file_name)"
   ]
  },
  {
   "cell_type": "code",
   "execution_count": 18,
   "metadata": {},
   "outputs": [],
   "source": [
    "etapes = [\n",
    "    {\"etape\": \"ETAPE000\", \"job\": \"UTMDPN14\", \"reprise\": \"ETAPE000\"},\n",
    "    {\"etape\": \"ETAPE010\", \"job\": \"UTMDPN08\", \"reprise\": \"ETAPE010\"},\n",
    "    {\"etape\": \"ETAPE020\", \"job\": \"UTMDPV17\", \"reprise\": \"ETAPE020\"},\n",
    "    {\"etape\": \"ETAPE999\", \"job\": \"UTMDPN06\", \"reprise\": \"ETAPE999\"}\n",
    "]\n",
    "\n",
    "\n",
    "\n",
    "file_name = r'C:\\Users\\LI2BTL\\OneDrive - Industrial Alliance\\Documents\\Tide Test\\13Q\\625\\IINM013Q.625'\n",
    "\n",
    "output = template.render(etapes=etapes, name='IINM013Q')\n",
    "\n",
    "write_output(output=output, file_name=file_name)"
   ]
  },
  {
   "cell_type": "code",
   "execution_count": null,
   "metadata": {},
   "outputs": [],
   "source": [
    "tmp = '''\n",
    "{{% for etape in etapes %}}\n",
    "<Etape>\n",
    "      <Nom>{{ etape.step }}</Nom>\n",
    "      <Description>UTMDPN15 - Conditions</Description>\n",
    "      <Programme>UTMDPN15{{ etape.condition }}</Programme>\n",
    "      <Section>UTMDPN15_FileExiste</Section>\n",
    "      <RepriseAutomatique Active=\"non\">\n",
    "        <Etape>ETAPE005</Etape>\n",
    "      </RepriseAutomatique>\n",
    "      <RepriseManuelle Possible=\"oui\">\n",
    "        <Etape>{{ etape.step }}</Etape>\n",
    "      </RepriseManuelle>\n",
    "    </Etape>\t\t\n",
    "    <Etape>\n",
    "      <Nom>{{ etape.conditionalStep }}</Nom>\n",
    "      <Description>{{ etape.conditionalDescription }}UTMDPN07 - Copie de fichiers</Description>\n",
    "      <Programme>{{ etape.conditionalProgram }}</Programme>\n",
    "      <Section>UTMDPN07_FileExiste</Section>\n",
    "      <Condition>\n",
    "        <ConditionINI>\n",
    "          <NomCondition>FichierExiste</NomCondition>\n",
    "          <ValeurCondition>NON</ValeurCondition>\n",
    "        </ConditionINI>\n",
    "      </Condition>\t  \n",
    "      <RepriseAutomatique Active=\"non\">\n",
    "        <Etape>{{ etape.conditionalStep }}</Etape>\n",
    "      </RepriseAutomatique>\n",
    "      <RepriseManuelle Possible=\"oui\">\n",
    "        <Etape>{{ etape.conditionalStep }}</Etape>\n",
    "      </RepriseManuelle>\n",
    "    </Etape>\n",
    "\t<Etape>\n",
    "'''"
   ]
  },
  {
   "cell_type": "markdown",
   "metadata": {},
   "source": [
    "etape.step\n",
    "etape.condition\n",
    "etape.conditionalStep\n",
    "etape.conditionalDescription"
   ]
  }
 ],
 "metadata": {
  "kernelspec": {
   "display_name": "Python 3",
   "language": "python",
   "name": "python3"
  },
  "language_info": {
   "codemirror_mode": {
    "name": "ipython",
    "version": 3
   },
   "file_extension": ".py",
   "mimetype": "text/x-python",
   "name": "python",
   "nbconvert_exporter": "python",
   "pygments_lexer": "ipython3",
   "version": "3.8.5"
  }
 },
 "nbformat": 4,
 "nbformat_minor": 4
}
