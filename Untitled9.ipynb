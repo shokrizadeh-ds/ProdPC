{
 "cells": [
  {
   "cell_type": "code",
   "execution_count": 1,
   "metadata": {},
   "outputs": [],
   "source": [
    "import pandas as pd"
   ]
  },
  {
   "cell_type": "code",
   "execution_count": 4,
   "metadata": {},
   "outputs": [],
   "source": [
    "data = pd.read_clipboard()"
   ]
  },
  {
   "cell_type": "code",
   "execution_count": 5,
   "metadata": {},
   "outputs": [
    {
     "data": {
      "text/html": [
       "<div>\n",
       "<style scoped>\n",
       "    .dataframe tbody tr th:only-of-type {\n",
       "        vertical-align: middle;\n",
       "    }\n",
       "\n",
       "    .dataframe tbody tr th {\n",
       "        vertical-align: top;\n",
       "    }\n",
       "\n",
       "    .dataframe thead th {\n",
       "        text-align: right;\n",
       "    }\n",
       "</style>\n",
       "<table border=\"1\" class=\"dataframe\">\n",
       "  <thead>\n",
       "    <tr style=\"text-align: right;\">\n",
       "      <th></th>\n",
       "      <th>Jobs</th>\n",
       "      <th>Présence</th>\n",
       "    </tr>\n",
       "  </thead>\n",
       "  <tbody>\n",
       "    <tr>\n",
       "      <td>0</td>\n",
       "      <td>IAYM001Q.WBT</td>\n",
       "      <td>Oui</td>\n",
       "    </tr>\n",
       "    <tr>\n",
       "      <td>1</td>\n",
       "      <td>IAYM002Q.WBT</td>\n",
       "      <td>Oui</td>\n",
       "    </tr>\n",
       "    <tr>\n",
       "      <td>2</td>\n",
       "      <td>IAYM003Q.WBT</td>\n",
       "      <td>oui</td>\n",
       "    </tr>\n",
       "    <tr>\n",
       "      <td>3</td>\n",
       "      <td>IAYM011H.WBT</td>\n",
       "      <td>oui</td>\n",
       "    </tr>\n",
       "    <tr>\n",
       "      <td>4</td>\n",
       "      <td>IAYM012H.WBT</td>\n",
       "      <td>oui</td>\n",
       "    </tr>\n",
       "    <tr>\n",
       "      <td>...</td>\n",
       "      <td>...</td>\n",
       "      <td>...</td>\n",
       "    </tr>\n",
       "    <tr>\n",
       "      <td>75</td>\n",
       "      <td>THCM400Q.WBT</td>\n",
       "      <td>oui</td>\n",
       "    </tr>\n",
       "    <tr>\n",
       "      <td>76</td>\n",
       "      <td>THCM401Q.WBT (A renommer pour thcf400q)</td>\n",
       "      <td>oui</td>\n",
       "    </tr>\n",
       "    <tr>\n",
       "      <td>77</td>\n",
       "      <td>THCM765D.WBT</td>\n",
       "      <td>oui</td>\n",
       "    </tr>\n",
       "    <tr>\n",
       "      <td>78</td>\n",
       "      <td>THCM765Q.WBT</td>\n",
       "      <td>oui</td>\n",
       "    </tr>\n",
       "    <tr>\n",
       "      <td>79</td>\n",
       "      <td>TWAM001Q.WBT</td>\n",
       "      <td>oui</td>\n",
       "    </tr>\n",
       "  </tbody>\n",
       "</table>\n",
       "<p>80 rows × 2 columns</p>\n",
       "</div>"
      ],
      "text/plain": [
       "                                       Jobs Présence \n",
       "0                              IAYM001Q.WBT       Oui\n",
       "1                              IAYM002Q.WBT       Oui\n",
       "2                              IAYM003Q.WBT       oui\n",
       "3                              IAYM011H.WBT       oui\n",
       "4                              IAYM012H.WBT       oui\n",
       "..                                      ...       ...\n",
       "75                             THCM400Q.WBT       oui\n",
       "76  THCM401Q.WBT (A renommer pour thcf400q)       oui\n",
       "77                             THCM765D.WBT       oui\n",
       "78                             THCM765Q.WBT       oui\n",
       "79                             TWAM001Q.WBT       oui\n",
       "\n",
       "[80 rows x 2 columns]"
      ]
     },
     "execution_count": 5,
     "metadata": {},
     "output_type": "execute_result"
    }
   ],
   "source": [
    "data"
   ]
  },
  {
   "cell_type": "code",
   "execution_count": 6,
   "metadata": {},
   "outputs": [],
   "source": [
    "files = data.Jobs.to_list()"
   ]
  },
  {
   "cell_type": "code",
   "execution_count": 7,
   "metadata": {},
   "outputs": [
    {
     "data": {
      "text/plain": [
       "['IAYM001Q.WBT',\n",
       " 'IAYM002Q.WBT',\n",
       " 'IAYM003Q.WBT',\n",
       " 'IAYM011H.WBT',\n",
       " 'IAYM012H.WBT',\n",
       " 'ICAM061Q.WBT',\n",
       " 'ICAM063Q.wbt',\n",
       " 'ICAM064Q.WBT',\n",
       " 'ICAM065Q.wbt',\n",
       " 'ICAM147Q.WBT',\n",
       " 'ICAM211Q.WBT',\n",
       " 'ICAM212Q.WBT',\n",
       " 'ICAM213Q.WBT',\n",
       " 'icam364q.wbt',\n",
       " 'ICAM367Q.WBT',\n",
       " 'ICAM399M.WBT',\n",
       " 'ICAM400M.WBT',\n",
       " 'ICAM410Q.wbt',\n",
       " 'ICAM420Q.WBT',\n",
       " 'ICAM421Q.WBT',\n",
       " 'ICAM422Q.WBT',\n",
       " 'ICAM430Q.WBT',\n",
       " 'ICAM440Q.WBT',\n",
       " 'ICAM765Q.WBT',\n",
       " 'IHCM001M.WBT',\n",
       " 'ihcm008q.wbt',\n",
       " 'IHCM056Q.wbt',\n",
       " 'IHCM070Q.WBT',\n",
       " 'IHCM170Q.WBT',\n",
       " 'IHCM290D.wbt',\n",
       " 'IHCM357Q.WBT',\n",
       " 'IHCM359Q.WBT',\n",
       " 'IHCM397Q.WBT',\n",
       " 'IHCM400Q.WBT',\n",
       " 'IHCM401Q.WBT (A renommer pour IHCF400Q)',\n",
       " 'IHCM442Q.wbt',\n",
       " 'IHCM497Q.WBT',\n",
       " 'IHCM501Q.wbt',\n",
       " 'IHCM502Q.wbt',\n",
       " 'IHCM688Q.wbt',\n",
       " 'IHCM765D.WBT',\n",
       " 'IHCM765Q.WBT',\n",
       " 'IHCM950Q.WBT',\n",
       " 'IHCM951Q.WBT',\n",
       " 'IHCM952Q.WBT',\n",
       " 'IHCM954M.WBT',\n",
       " 'IHCM958Q.Wbt',\n",
       " 'IHCM961Q.wbt',\n",
       " 'IMAM503Q.WBT',\n",
       " 'IMOM001Q.WBT',\n",
       " 'IWAM001D.WBT',\n",
       " 'IWAM001Q.WBT',\n",
       " 'IWAM002Q.WBT',\n",
       " 'IWAM003M.WBT',\n",
       " 'IWAM004M.WBT',\n",
       " 'IWAM005M.WBT',\n",
       " 'IWAM006Q.wbt',\n",
       " 'IWAM010D.wbt',\n",
       " 'IWAM015H.wbt',\n",
       " 'IWAM020M.WBT',\n",
       " 'IWAM030M.WBT',\n",
       " 'IWAM040Q.WBT',\n",
       " 'IWAM041Q.WBT',\n",
       " 'IWAM555M.WBT',\n",
       " 'IWAM999Q.WBT',\n",
       " 'IZCM001Q.WBT',\n",
       " 'IZCM003Q.WBT',\n",
       " 'IZCM004Q.WBT',\n",
       " 'NHCM353Q.WBT',\n",
       " 'NHCM400Q.WBT',\n",
       " 'NHCM401Q.WBT (À renommer pour NHCF400Q.wbt)',\n",
       " 'NHCM765D.WBT',\n",
       " 'NHCM765Q.WBT',\n",
       " 'NWAM001Q.WBT',\n",
       " 'THCM353Q.WBT',\n",
       " 'THCM400Q.WBT',\n",
       " 'THCM401Q.WBT (A renommer pour thcf400q)',\n",
       " 'THCM765D.WBT',\n",
       " 'THCM765Q.WBT',\n",
       " 'TWAM001Q.WBT']"
      ]
     },
     "execution_count": 7,
     "metadata": {},
     "output_type": "execute_result"
    }
   ],
   "source": [
    "files"
   ]
  },
  {
   "cell_type": "code",
   "execution_count": 8,
   "metadata": {},
   "outputs": [],
   "source": [
    "import os"
   ]
  },
  {
   "cell_type": "code",
   "execution_count": 10,
   "metadata": {},
   "outputs": [],
   "source": [
    "path = r'X:\\Svc\\SCOPC-PRODPC\\FERME04\\PROD\\PROD_PC\\JOBS'\n",
    "\n",
    "fl = os.listdir(path)"
   ]
  },
  {
   "cell_type": "code",
   "execution_count": 12,
   "metadata": {},
   "outputs": [
    {
     "name": "stdout",
     "output_type": "stream",
     "text": [
      "IHCM401Q.WBT (A renommer pour IHCF400Q)\n",
      "NHCM401Q.WBT (À renommer pour NHCF400Q.wbt)\n",
      "THCM401Q.WBT (A renommer pour thcf400q)\n"
     ]
    }
   ],
   "source": [
    "err = []\n",
    "\n",
    "for file in files:\n",
    "    if file not in fl:\n",
    "        print(file)\n",
    "        e = file.split()[0]\n",
    "        err.append(e)"
   ]
  },
  {
   "cell_type": "code",
   "execution_count": 14,
   "metadata": {},
   "outputs": [
    {
     "data": {
      "text/plain": [
       "['IHCM401Q.WBT', 'NHCM401Q.WBT', 'THCM401Q.WBT']"
      ]
     },
     "execution_count": 14,
     "metadata": {},
     "output_type": "execute_result"
    }
   ],
   "source": [
    "err"
   ]
  },
  {
   "cell_type": "code",
   "execution_count": 15,
   "metadata": {},
   "outputs": [],
   "source": [
    "for i in err:\n",
    "    if i not in fl:\n",
    "        print(i)"
   ]
  },
  {
   "cell_type": "code",
   "execution_count": null,
   "metadata": {},
   "outputs": [],
   "source": []
  }
 ],
 "metadata": {
  "kernelspec": {
   "display_name": "Python 3",
   "language": "python",
   "name": "python3"
  },
  "language_info": {
   "codemirror_mode": {
    "name": "ipython",
    "version": 3
   },
   "file_extension": ".py",
   "mimetype": "text/x-python",
   "name": "python",
   "nbconvert_exporter": "python",
   "pygments_lexer": "ipython3",
   "version": "3.7.4"
  }
 },
 "nbformat": 4,
 "nbformat_minor": 2
}
