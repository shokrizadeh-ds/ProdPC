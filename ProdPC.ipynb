{
 "cells": [
  {
   "cell_type": "code",
   "execution_count": 7,
   "metadata": {},
   "outputs": [],
   "source": [
    "from bs4 import BeautifulSoup\n",
    "import lxml\n",
    "import xml.etree.ElementTree as ET\n",
    "\n",
    "import os\n",
    "\n",
    "path = r\"C:\\Users\\LI2BTL\\OneDrive - Industrial Alliance\\Documents\\Batch 1\\MODIFIED 625\\OUT\\XML\""
   ]
  },
  {
   "cell_type": "code",
   "execution_count": 2,
   "metadata": {},
   "outputs": [
    {
     "data": {
      "text/plain": [
       "['NBMY620A.xml',\n",
       " 'NBMY620H.xml',\n",
       " 'NBMY620M.xml',\n",
       " 'NBMY620Q.xml',\n",
       " 'NBMY623Q.xml',\n",
       " 'NBMY626Q.xml',\n",
       " 'NBMY628Q.xml']"
      ]
     },
     "execution_count": 2,
     "metadata": {},
     "output_type": "execute_result"
    }
   ],
   "source": [
    "os.listdir(path)"
   ]
  },
  {
   "cell_type": "code",
   "execution_count": 3,
   "metadata": {},
   "outputs": [
    {
     "data": {
      "text/plain": [
       "'C:\\\\Users\\\\LI2BTL\\\\OneDrive - Industrial Alliance\\\\Documents\\\\Batch 1\\\\MODIFIED 625\\\\OUT\\\\XML\\\\NBMY620A.xml'"
      ]
     },
     "execution_count": 3,
     "metadata": {},
     "output_type": "execute_result"
    }
   ],
   "source": [
    "filePath = f'{path}\\{os.listdir(path)[0]}'\n",
    "filePath"
   ]
  },
  {
   "cell_type": "code",
   "execution_count": 4,
   "metadata": {},
   "outputs": [],
   "source": [
    "tree = ET.parse(filePath)\n",
    "\n",
    "root = tree.getroot()"
   ]
  },
  {
   "cell_type": "code",
   "execution_count": 5,
   "metadata": {},
   "outputs": [
    {
     "data": {
      "text/plain": [
       "[<Element '{file:////ia.iafg.net/r01/Svc/SCOPC-PRODPC/COEUR/schema/ProdPCXMLSchema.xsd}Travail' at 0x00000255F1FC89A0>]"
      ]
     },
     "execution_count": 5,
     "metadata": {},
     "output_type": "execute_result"
    }
   ],
   "source": [
    "tree.findall('.')"
   ]
  },
  {
   "cell_type": "code",
   "execution_count": 6,
   "metadata": {},
   "outputs": [
    {
     "ename": "NameError",
     "evalue": "name 'fromstring' is not defined",
     "output_type": "error",
     "traceback": [
      "\u001b[1;31m---------------------------------------------------------------------------\u001b[0m",
      "\u001b[1;31mNameError\u001b[0m                                 Traceback (most recent call last)",
      "\u001b[1;32m<ipython-input-6-dadb1c5ec6c1>\u001b[0m in \u001b[0;36m<module>\u001b[1;34m\u001b[0m\n\u001b[1;32m----> 1\u001b[1;33m \u001b[0mroot\u001b[0m \u001b[1;33m=\u001b[0m \u001b[0mfromstring\u001b[0m\u001b[1;33m(\u001b[0m\u001b[0mxml_text\u001b[0m\u001b[1;33m)\u001b[0m\u001b[1;33m\u001b[0m\u001b[1;33m\u001b[0m\u001b[0m\n\u001b[0m\u001b[0;32m      2\u001b[0m \u001b[1;32mfor\u001b[0m \u001b[0mactor\u001b[0m \u001b[1;32min\u001b[0m \u001b[0mroot\u001b[0m\u001b[1;33m.\u001b[0m\u001b[0mfindall\u001b[0m\u001b[1;33m(\u001b[0m\u001b[1;34m'{http://people.example.com}actor'\u001b[0m\u001b[1;33m)\u001b[0m\u001b[1;33m:\u001b[0m\u001b[1;33m\u001b[0m\u001b[1;33m\u001b[0m\u001b[0m\n\u001b[0;32m      3\u001b[0m     \u001b[0mname\u001b[0m \u001b[1;33m=\u001b[0m \u001b[0mactor\u001b[0m\u001b[1;33m.\u001b[0m\u001b[0mfind\u001b[0m\u001b[1;33m(\u001b[0m\u001b[1;34m'{http://people.example.com}name'\u001b[0m\u001b[1;33m)\u001b[0m\u001b[1;33m\u001b[0m\u001b[1;33m\u001b[0m\u001b[0m\n\u001b[0;32m      4\u001b[0m     \u001b[0mprint\u001b[0m\u001b[1;33m(\u001b[0m\u001b[0mname\u001b[0m\u001b[1;33m.\u001b[0m\u001b[0mtext\u001b[0m\u001b[1;33m)\u001b[0m\u001b[1;33m\u001b[0m\u001b[1;33m\u001b[0m\u001b[0m\n\u001b[0;32m      5\u001b[0m     \u001b[1;32mfor\u001b[0m \u001b[0mchar\u001b[0m \u001b[1;32min\u001b[0m \u001b[0mactor\u001b[0m\u001b[1;33m.\u001b[0m\u001b[0mfindall\u001b[0m\u001b[1;33m(\u001b[0m\u001b[1;34m'{http://characters.example.com}character'\u001b[0m\u001b[1;33m)\u001b[0m\u001b[1;33m:\u001b[0m\u001b[1;33m\u001b[0m\u001b[1;33m\u001b[0m\u001b[0m\n",
      "\u001b[1;31mNameError\u001b[0m: name 'fromstring' is not defined"
     ]
    }
   ],
   "source": [
    "root = fromstring(xml_text)\n",
    "for actor in root.findall('{http://people.example.com}actor'):\n",
    "    name = actor.find('{http://people.example.com}name')\n",
    "    print(name.text)\n",
    "    for char in actor.findall('{http://characters.example.com}character'):\n",
    "        print(' |-->', char.text)"
   ]
  },
  {
   "cell_type": "code",
   "execution_count": null,
   "metadata": {},
   "outputs": [],
   "source": [
    "for elem in root.findall('{file:////ia.iafg.net/r01/Svc/SCOPC-PRODPC/COEUR/schema/ProdPCXMLSchema.xsd}Travail'):\n",
    "    print(elem)"
   ]
  },
  {
   "cell_type": "code",
   "execution_count": null,
   "metadata": {},
   "outputs": [],
   "source": [
    "for elem in root:\n",
    "    print(elem)"
   ]
  },
  {
   "cell_type": "code",
   "execution_count": null,
   "metadata": {},
   "outputs": [],
   "source": [
    "for elem in root:\n",
    "    print(elem.tag)"
   ]
  },
  {
   "cell_type": "code",
   "execution_count": null,
   "metadata": {},
   "outputs": [],
   "source": [
    "for elem in root:\n",
    "    print(type(elem.tag))"
   ]
  },
  {
   "cell_type": "code",
   "execution_count": null,
   "metadata": {},
   "outputs": [],
   "source": [
    "stripper = r'{file:////ia.iafg.net/r01/Svc/SCOPC-PRODPC/COEUR/schema/ProdPCXMLSchema.xsd}'\n",
    "\n",
    "for elem in root:\n",
    "    print(elem.tag.replace(stripper, ''))"
   ]
  },
  {
   "cell_type": "code",
   "execution_count": null,
   "metadata": {},
   "outputs": [],
   "source": [
    "for elem in root:\n",
    "    print(elem.tag.replace(stripper, ''))\n",
    "    print(elem.text.replace(stripper, ''))\n",
    "    for child in elem:\n",
    "        print(f\"\\t{child.tag.replace(stripper, '')}\")\n",
    "        print(f\"\\t{child.text.replace(stripper, '')}\")\n",
    "        for element in child:\n",
    "            print(f\"\\t\\t{element.tag.replace(stripper, '')}\")\n",
    "            print(f\"\\t\\t\\t\\t\\t{element.text.replace(stripper, '')}\")"
   ]
  },
  {
   "cell_type": "code",
   "execution_count": null,
   "metadata": {},
   "outputs": [],
   "source": [
    "for i in root.getchildren():\n",
    "    print(i)"
   ]
  },
  {
   "cell_type": "code",
   "execution_count": null,
   "metadata": {},
   "outputs": [],
   "source": [
    "for i in root.getchildren():\n",
    "    print(type(i))\n",
    "    for j in i:\n",
    "        print(j)"
   ]
  },
  {
   "cell_type": "code",
   "execution_count": null,
   "metadata": {},
   "outputs": [],
   "source": [
    "for i in root.getchildren():\n",
    "    print(type(i))\n",
    "    for j in i.getchildren():\n",
    "        print(j)"
   ]
  },
  {
   "cell_type": "code",
   "execution_count": null,
   "metadata": {},
   "outputs": [],
   "source": [
    "path = r\"C:\\Users\\LI2BTL\\OneDrive - Industrial Alliance\\Documents\\Batch 1\\MODIFIED 625\\OUT\\XML\"\n",
    "\n",
    "for file in os.listdir(path):\n",
    "    filePath = f'{path}\\{file}'\n",
    "    print(filePath)\n",
    "    tree = ET.parse(filePath)\n",
    "    root = tree.getroot()\n",
    "    \n",
    "    for elem in root:\n",
    "        print(f\"\\t{elem.tag.replace(stripper, '')}\")\n",
    "        print(f\"\\t{elem.text.replace(stripper, '')}\")\n",
    "        for child in elem:\n",
    "            print(f\"\\t\\t{child.tag.replace(stripper, '')}\")\n",
    "            print(f\"\\t\\t{child.text.replace(stripper, '')}\")\n",
    "            for element in child:\n",
    "                print(f\"\\t\\t\\t{element.tag.replace(stripper, '')}\")\n",
    "                print(f\"\\t\\t\\t\\t\\t\\t{element.text.replace(stripper, '')}\")"
   ]
  },
  {
   "cell_type": "code",
   "execution_count": null,
   "metadata": {},
   "outputs": [],
   "source": [
    "path = r\"C:\\Users\\LI2BTL\\OneDrive - Industrial Alliance\\Documents\\Batch 1\\MODIFIED 625\\OUT\\XML\"\n",
    "\n",
    "l = []\n",
    "\n",
    "for file in os.listdir(path):\n",
    "    filePath = f'{path}\\{file}'\n",
    "#     print(filePath)\n",
    "    tree = ET.parse(filePath)\n",
    "    root = tree.getroot()\n",
    "    \n",
    "    for elem in root:\n",
    "#         print(f\"{elem.tag.replace(stripper, '')}\", end=',')\n",
    "#         print(f\"{elem.text.replace(stripper, '')}\", end=',')\n",
    "        for child in elem:\n",
    "#             print(f\"{child.tag.replace(stripper, '')}\", end=',')\n",
    "#             print(f\"{child.text.replace(stripper, '')}\", end=',')\n",
    "            for element in child:\n",
    "                for item in element:\n",
    "                \n",
    "#                     print(filePath, end=',')\n",
    "    #                 print(f\"{elem.tag.replace(stripper, '').strip(r' ')}\", end=',')\n",
    "    #                 print(f\"{elem.text.replace(stripper, '').strip(r' ')}\", end=',')\n",
    "    #                 print(f\"{child.tag.replace(stripper, '').strip(r' ')}\", end=',')\n",
    "    #                 print(f\"{child.text.replace(stripper, '').strip(r' ')}\", end=',')\n",
    "    #                 print(f\"{element.tag.replace(stripper, '').strip(r' ')}\", end=',')\n",
    "    #                 print(f\"{element.text.replace(stripper, '').strip(r' ')}\", end=',')\n",
    "                    l.append([filePath,\n",
    "                              elem.tag.replace(stripper, '').strip(r' '),\n",
    "                              elem.text.replace(stripper, '').strip(r' '),\n",
    "                              child.tag.replace(stripper, '').strip(r' '),\n",
    "                              child.text.replace(stripper, '').strip(r' '),\n",
    "                              element.tag.replace(stripper, '').strip(r' '), \n",
    "                              element.text.replace(stripper, '').strip(r' '),\n",
    "                              item.text.replace(stripper, '').strip(r' '),\n",
    "                              item.text.replace(stripper, '').strip(r' '),\n",
    "                         ])\n",
    "#             print('\\n')"
   ]
  },
  {
   "cell_type": "code",
   "execution_count": null,
   "metadata": {},
   "outputs": [],
   "source": [
    "# l"
   ]
  },
  {
   "cell_type": "code",
   "execution_count": null,
   "metadata": {},
   "outputs": [],
   "source": [
    "import pandas as pd"
   ]
  },
  {
   "cell_type": "code",
   "execution_count": null,
   "metadata": {},
   "outputs": [],
   "source": [
    "data = pd.DataFrame(l)"
   ]
  },
  {
   "cell_type": "code",
   "execution_count": null,
   "metadata": {},
   "outputs": [],
   "source": [
    "data.columns.to_list()"
   ]
  },
  {
   "cell_type": "code",
   "execution_count": null,
   "metadata": {},
   "outputs": [],
   "source": [
    "for cl in data.columns.to_list():\n",
    "    print(type(cl))"
   ]
  },
  {
   "cell_type": "code",
   "execution_count": null,
   "metadata": {},
   "outputs": [],
   "source": [
    "data.head(10)"
   ]
  },
  {
   "cell_type": "code",
   "execution_count": null,
   "metadata": {},
   "outputs": [],
   "source": [
    "data[2].describe()"
   ]
  },
  {
   "cell_type": "code",
   "execution_count": null,
   "metadata": {},
   "outputs": [],
   "source": [
    "data.describe()"
   ]
  },
  {
   "cell_type": "code",
   "execution_count": null,
   "metadata": {},
   "outputs": [],
   "source": [
    "# data = data.drop([2,4,6], axis=1)"
   ]
  },
  {
   "cell_type": "code",
   "execution_count": null,
   "metadata": {},
   "outputs": [],
   "source": [
    "data.head(20)"
   ]
  },
  {
   "cell_type": "code",
   "execution_count": null,
   "metadata": {},
   "outputs": [],
   "source": [
    "os.getcwd()"
   ]
  },
  {
   "cell_type": "code",
   "execution_count": null,
   "metadata": {},
   "outputs": [],
   "source": [
    "data.to_csv('xml_data.csv',  index=False)"
   ]
  },
  {
   "cell_type": "code",
   "execution_count": null,
   "metadata": {},
   "outputs": [],
   "source": []
  },
  {
   "cell_type": "code",
   "execution_count": null,
   "metadata": {},
   "outputs": [],
   "source": []
  },
  {
   "cell_type": "code",
   "execution_count": null,
   "metadata": {},
   "outputs": [],
   "source": []
  },
  {
   "cell_type": "code",
   "execution_count": null,
   "metadata": {},
   "outputs": [],
   "source": [
    "path = r\"C:\\Users\\LI2BTL\\OneDrive - Industrial Alliance\\Documents\\Batch 1\\MODIFIED 625\\OUT\\XML\"\n",
    "\n",
    "stripper = r'{file:////ia.iafg.net/r01/Svc/SCOPC-PRODPC/COEUR/schema/ProdPCXMLSchema.xsd}'\n",
    "\n",
    "l = []\n",
    "\n",
    "for file in os.listdir(path):\n",
    "    filePath = f'{path}\\{file}'\n",
    "#     print(filePath)\n",
    "    tree = ET.parse(filePath)\n",
    "    root = tree.getroot()\n",
    "    \n",
    "    for elem in root:\n",
    "#         print(f\"{elem.tag.replace(stripper, '')}\", end=',')\n",
    "#         print(f\"{elem.text.replace(stripper, '')}\", end=',')\n",
    "        for child in elem:\n",
    "#             print(f\"{child.tag.replace(stripper, '')}\", end=',')\n",
    "#             print(f\"{child.text.replace(stripper, '')}\", end=',')\n",
    "            for element in child:\n",
    "                for item in element:\n",
    "                \n",
    "                    print(filePath, end=',')\n",
    "                    elem_tag = elem.tag.replace(stripper, '').replace('\\n', ' ').strip(' \\n\\r')\n",
    "                    elem_text = elem.text.replace(stripper, '').replace('\\n', ' ').strip(' \\n\\r')\n",
    "                    child_tag = child.tag.replace(stripper, '').replace('\\n', ' ').strip(' \\n\\r')\n",
    "                    child_text = child.text.replace(stripper, '').replace('\\n', ' ').strip(' \\n\\r')\n",
    "                    element_tag = element.tag.replace(stripper, '').replace('\\n', ' ').strip(' \\n\\r')\n",
    "                    element_text = element.text.replace(stripper, '').replace('\\n', ' ').strip(' \\n\\r')\n",
    "                    item_text = item.text.replace(stripper, '').replace('\\n', ' ').strip(' \\n\\r')\n",
    "                    item_text = item.text.replace(stripper, '').replace('\\n', ' ').strip(' \\n\\r')\n",
    "\n",
    "\n",
    "                    print(elem_tag, end=',')\n",
    "                    print(elem_text, end=',')\n",
    "                    print(child_tag, end=',')\n",
    "                    print(child_text, end=',')\n",
    "                    print(element_tag, end=',')\n",
    "                    print(element_text, end=',')\n",
    "                    print(item_text, end=',')\n",
    "                    print(item_text, end=',')\n",
    "                    \n",
    "                    l.append([filePath,\n",
    "                              elem_tag,\n",
    "                              elem_text,\n",
    "                              child_tag,\n",
    "                              child_text,\n",
    "                              element_tag,\n",
    "                              element_text,\n",
    "                              item_text,\n",
    "                              item_text])\n",
    "\n",
    "                    \n",
    "                    \n",
    "                    \n",
    "                    \n",
    "                    \n",
    "                    \n",
    "                    \n",
    "                    \n",
    "                    \n",
    "                    \n",
    "                    \n",
    "                    \n",
    "                    \n",
    "                    \n",
    "                    \n",
    "                    \n",
    "#                     print(f\"111 {elem.tag.replace(stripper, '').strip(r' ').rstrip(r'\\n\\r')}\", end='')\n",
    "#                     print(f\"222{elem.text.replace(stripper, '').strip(r' ').rstrip(r'\\n\\r')}\", end='')\n",
    "#                     print(f\"333 {child.tag.replace(stripper, '').strip(r' ').rstrip(r'\\n\\r')}\", end='')\n",
    "#                     print(f\"444 {child.text.replace(stripper, '').strip(r' ').rstrip(r'\\n\\r')}\", end='')\n",
    "#                     print(f\"555 {element.tag.replace(stripper, '').strip(r' ').rstrip(r'\\n\\r')}\", end='')\n",
    "#                     print(f\"666 {element.text.replace(stripper, '').strip(r' ').rstrip(r'\\n\\r')}\", end='')\n",
    "#                     print(f\"777 {item.text.replace(stripper, '').strip(r' ').rstrip(r'\\n\\r')}\", end='')\n",
    "#                     print(f\"888 {item.text.replace(stripper, '').strip(r' ').rstrip(r'\\n\\r')}\", end='')\n",
    "#                     l.append([filePath,\n",
    "#                               elem.tag.replace(stripper, '').strip(r' '),\n",
    "#                               elem.text.replace(stripper, '').strip(r' '),\n",
    "#                               child.tag.replace(stripper, '').strip(r' '),\n",
    "#                               child.text.replace(stripper, '').strip(r' '),\n",
    "#                               element.tag.replace(stripper, '').strip(r' '), \n",
    "#                               element.text.replace(stripper, '').strip(r' '),\n",
    "#                               item.text.replace(stripper, '').strip(r' '),\n",
    "#                               item.text.replace(stripper, '').strip(r' '),\n",
    "#                          ])\n",
    "#             print('\\n')"
   ]
  },
  {
   "cell_type": "code",
   "execution_count": null,
   "metadata": {},
   "outputs": [],
   "source": [
    "data = pd.DataFrame(l)"
   ]
  },
  {
   "cell_type": "code",
   "execution_count": null,
   "metadata": {},
   "outputs": [],
   "source": [
    "data.head(10)"
   ]
  },
  {
   "cell_type": "code",
   "execution_count": null,
   "metadata": {},
   "outputs": [],
   "source": [
    "data.to_csv('xml_data.csv', index=False)"
   ]
  },
  {
   "cell_type": "code",
   "execution_count": null,
   "metadata": {},
   "outputs": [],
   "source": []
  },
  {
   "cell_type": "code",
   "execution_count": null,
   "metadata": {},
   "outputs": [],
   "source": []
  },
  {
   "cell_type": "code",
   "execution_count": null,
   "metadata": {},
   "outputs": [],
   "source": [
    "for elem in root:\n",
    "    print(elem.tag.split('}')[1])"
   ]
  },
  {
   "cell_type": "code",
   "execution_count": null,
   "metadata": {},
   "outputs": [],
   "source": [
    "for elem in root:\n",
    "    print('*' + elem.text.strip().replace('\\n', '') + '*') # There is no issue here.\\\n",
    "#                                                            The fact is that the other \n",
    "#                                                            Lines are the next iteration of the FOR loop."
   ]
  },
  {
   "cell_type": "code",
   "execution_count": null,
   "metadata": {},
   "outputs": [],
   "source": [
    "for elem in root:\n",
    "    print(f'{elem.tag.split(\"}\")[1]}')\n",
    "    for child in elem:\n",
    "        print(f'\\t{child.tag.split(\"}\")[1]}')"
   ]
  },
  {
   "cell_type": "code",
   "execution_count": null,
   "metadata": {},
   "outputs": [],
   "source": [
    "path = r\"C:\\Users\\LI2BTL\\OneDrive - Industrial Alliance\\Documents\\Batch 1\\MODIFIED 625\\OUT\\XML\"\n",
    "\n",
    "stripper = r'{file:////ia.iafg.net/r01/Svc/SCOPC-PRODPC/COEUR/schema/ProdPCXMLSchema.xsd}'\n",
    "\n",
    "l = []\n",
    "\n",
    "\n",
    "def extract_xml(path):\n",
    "    l = []\n",
    "    for file in os.listdir(path):\n",
    "        filePath = f'{path}\\{file}'\n",
    "        print(filePath)\n",
    "        tree = ET.parse(filePath)\n",
    "        root = tree.getroot()\n",
    "\n",
    "        for elem in root:\n",
    "    #         print(f\"{elem.tag.replace(stripper, '')}\", end=',')\n",
    "    #         print(f\"{elem.text.replace(stripper, '')}\", end=',')\n",
    "            for child in elem:\n",
    "    #             print(f\"{child.tag.replace(stripper, '')}\", end=',')\n",
    "    #             print(f\"{child.text.replace(stripper, '')}\", end=',')\n",
    "                for element in child:\n",
    "                    for item in element:\n",
    "\n",
    "                        print(filePath, end=',')\n",
    "                        elem_tag = elem.tag.split(\"}\")[1].replace('\\n', ' ').strip(' \\n\\r')\n",
    "                        elem_text = elem.text.replace(stripper, '').replace('\\n', ' ').strip(' \\n\\r')\n",
    "                        child_tag = child.tag.split(\"}\")[1].replace('\\n', ' ').strip(' \\n\\r')\n",
    "                        child_text = child.text.replace(stripper, '').replace('\\n', ' ').strip(' \\n\\r')\n",
    "                        element_tag = element.tag.split(\"}\")[1].replace('\\n', ' ').strip(' \\n\\r')\n",
    "                        element_text = element.text.replace(stripper, '').replace('\\n', ' ').strip(' \\n\\r')\n",
    "                        item_tag = item.tag.split(\"}\")[1].replace('\\n', ' ').strip(' \\n\\r')\n",
    "                        item_text = item.text.replace(stripper, '').replace('\\n', ' ').strip(' \\n\\r')\n",
    "\n",
    "\n",
    "#                         print(elem_tag, end=',')\n",
    "#                         print(elem_text, end=',')\n",
    "#                         print(child_tag, end=',')\n",
    "#                         print(child_text, end=',')\n",
    "#                         print(element_tag, end=',')\n",
    "#                         print(element_text, end=',')\n",
    "#                         print(item_text, end=',')\n",
    "#                         print(item_text, end=',')\n",
    "\n",
    "                        l.append([filePath,\n",
    "                                  elem_tag,\n",
    "                                  elem_text,\n",
    "                                  child_tag,\n",
    "                                  child_text,\n",
    "                                  element_tag,\n",
    "                                  element_text,\n",
    "                                  item_tag,\n",
    "                                  item_text])\n",
    "        return l"
   ]
  },
  {
   "cell_type": "code",
   "execution_count": null,
   "metadata": {},
   "outputs": [],
   "source": [
    "path = r\"C:\\Users\\LI2BTL\\OneDrive - Industrial Alliance\\Documents\\Batch 1\\MODIFIED 625\\OUT\\XML\"\n",
    "\n",
    "extract_xml(path)"
   ]
  },
  {
   "cell_type": "code",
   "execution_count": null,
   "metadata": {},
   "outputs": [],
   "source": []
  },
  {
   "cell_type": "code",
   "execution_count": null,
   "metadata": {},
   "outputs": [],
   "source": [
    "path_2 = r'C:\\Users\\LI2BTL\\OneDrive - Industrial Alliance\\Documents\\Batch 2\\XML'\n",
    "\n",
    "extract_xml(path_2)"
   ]
  },
  {
   "cell_type": "code",
   "execution_count": null,
   "metadata": {},
   "outputs": [],
   "source": [
    "dt = pd.DataFrame(extract_xml(path_2))"
   ]
  },
  {
   "cell_type": "code",
   "execution_count": null,
   "metadata": {},
   "outputs": [],
   "source": [
    "dt"
   ]
  },
  {
   "cell_type": "code",
   "execution_count": null,
   "metadata": {},
   "outputs": [],
   "source": [
    "dt.to_csv('NBMY648Q_xml_data.csv', index=False)"
   ]
  },
  {
   "cell_type": "code",
   "execution_count": null,
   "metadata": {},
   "outputs": [],
   "source": []
  },
  {
   "cell_type": "code",
   "execution_count": null,
   "metadata": {},
   "outputs": [],
   "source": []
  },
  {
   "cell_type": "code",
   "execution_count": 23,
   "metadata": {},
   "outputs": [
    {
     "ename": "IndentationError",
     "evalue": "expected an indented block (<ipython-input-23-2d44aaaa7d4b>, line 72)",
     "output_type": "error",
     "traceback": [
      "\u001b[1;36m  File \u001b[1;32m\"<ipython-input-23-2d44aaaa7d4b>\"\u001b[1;36m, line \u001b[1;32m72\u001b[0m\n\u001b[1;33m    extract_xml_2(path)\u001b[0m\n\u001b[1;37m                       ^\u001b[0m\n\u001b[1;31mIndentationError\u001b[0m\u001b[1;31m:\u001b[0m expected an indented block\n"
     ]
    }
   ],
   "source": [
    "path = r\"C:\\Users\\LI2BTL\\OneDrive - Industrial Alliance\\Documents\\Batch 1\\MODIFIED 625\\OUT\\XML\"\n",
    "\n",
    "stripper = r'{file:////ia.iafg.net/r01/Svc/SCOPC-PRODPC/COEUR/schema/ProdPCXMLSchema.xsd}'\n",
    "\n",
    "l = []\n",
    "\n",
    "\n",
    "def extract_xml_2(path):\n",
    "    l = []\n",
    "    for file in os.listdir(path):\n",
    "        filePath = f'{path}\\{file}'\n",
    "#         print(filePath)\n",
    "        tree = ET.parse(filePath)\n",
    "        root = tree.getroot()\n",
    "        \n",
    "#         c = []\n",
    "#         c.append(filePath)\n",
    "\n",
    "        for elem in root:\n",
    "            c = []\n",
    "            c.append(filePath)\n",
    "            elem_tag = elem.tag.split('}')[1]\n",
    "#             print('1  ' + elem_tag, end=',')\n",
    "            c.append(elem_tag)\n",
    "            elem_text = elem.text.replace(stripper, '').replace('\\n', ' ').strip(' \\n\\r')\n",
    "            c.append(elem_text)\n",
    "            print(c)\n",
    "            \n",
    "            for child in elem:\n",
    "                for element in child:\n",
    "                    for item in element:\n",
    "#                         print(c)\n",
    "\n",
    "#                         print(filePath, end=',')\n",
    "#                         elem_tag = elem.tag.split(\"}\")[1].replace('\\n', ' ').strip(' \\n\\r')\n",
    "#                         elem_tag = elem.tag\n",
    "#                         elem_text = elem.text.replace(stripper, '').replace('\\n', ' ').strip(' \\n\\r')\n",
    "#                         child_tag = child.tag.split(\"}\")[1].replace('\\n', ' ').strip(' \\n\\r')\n",
    "#                         child_text = child.text.replace(stripper, '').replace('\\n', ' ').strip(' \\n\\r')\n",
    "#                         element_tag = element.tag.split(\"}\")[1].replace('\\n', ' ').strip(' \\n\\r')\n",
    "#                         element_text = element.text.replace(stripper, '').replace('\\n', ' ').strip(' \\n\\r')\n",
    "#                         item_tag = item.tag.split(\"}\")[1].replace('\\n', ' ').strip(' \\n\\r')\n",
    "#                         item_text = item.text.replace(stripper, '').replace('\\n', ' ').strip(' \\n\\r')\n",
    "                        \n",
    "#                         l.append([c[0],\n",
    "#                                  c[1],\n",
    "#                                  c[2],\n",
    "#                                  child_tag,\n",
    "#                                  child_text,\n",
    "#                                  element_tag,\n",
    "#                                  element_text,\n",
    "#                                  item_tag,\n",
    "#                                  item_text]\n",
    "#                                 )\n",
    "\n",
    "\n",
    "#                         print('2  ' + c[1], end=',')\n",
    "#                         print(c[2] , end='\\n')\n",
    "#                         print(child_tag, end=',')\n",
    "#                         print(child_text, end=',')\n",
    "#                         print(element_tag, end=',')\n",
    "#                         print(element_text, end=',')\n",
    "#                         print(item_text, end=',')\n",
    "#                         print(item_text, end=',')\n",
    "#     return l\n",
    "\n",
    "\n",
    "\n",
    "\n",
    "\n",
    "\n",
    "extract_xml_2(path)"
   ]
  },
  {
   "cell_type": "code",
   "execution_count": null,
   "metadata": {},
   "outputs": [],
   "source": [
    "root"
   ]
  },
  {
   "cell_type": "code",
   "execution_count": null,
   "metadata": {},
   "outputs": [],
   "source": [
    "root.tag"
   ]
  },
  {
   "cell_type": "code",
   "execution_count": null,
   "metadata": {},
   "outputs": [],
   "source": [
    "for i in root:\n",
    "    print(i.tag.split('}')[1])"
   ]
  },
  {
   "cell_type": "code",
   "execution_count": null,
   "metadata": {},
   "outputs": [],
   "source": []
  },
  {
   "cell_type": "code",
   "execution_count": null,
   "metadata": {},
   "outputs": [],
   "source": []
  },
  {
   "cell_type": "code",
   "execution_count": 9,
   "metadata": {},
   "outputs": [
    {
     "ename": "IndentationError",
     "evalue": "expected an indented block (<ipython-input-9-87e99acea4da>, line 60)",
     "output_type": "error",
     "traceback": [
      "\u001b[1;36m  File \u001b[1;32m\"<ipython-input-9-87e99acea4da>\"\u001b[1;36m, line \u001b[1;32m60\u001b[0m\n\u001b[1;33m    extract_xml_2(path)\u001b[0m\n\u001b[1;37m                       ^\u001b[0m\n\u001b[1;31mIndentationError\u001b[0m\u001b[1;31m:\u001b[0m expected an indented block\n"
     ]
    }
   ],
   "source": [
    "import os\n",
    "import pandas\n",
    "import lxml\n",
    "import xml.etree.ElementTree as ET\n",
    "\n",
    "\n",
    "path = r\"C:\\Users\\LI2BTL\\OneDrive - Industrial Alliance\\Documents\\Batch 1\\MODIFIED 625\\OUT\\XML\"\n",
    "\n",
    "stripper = r'{file:////ia.iafg.net/r01/Svc/SCOPC-PRODPC/COEUR/schema/ProdPCXMLSchema.xsd}'\n",
    "\n",
    "l = []\n",
    "\n",
    "\n",
    "def extract_xml_2(path):\n",
    "    \n",
    "    l = []\n",
    "    for file in os.listdir(path):\n",
    "        filePath = f'{path}\\{file}'\n",
    "        # print(filePath)\n",
    "        tree = ET.parse(filePath)\n",
    "        root = tree.getroot()\n",
    "\n",
    "        for elem in root:\n",
    "            elem_tag = elem.tag.split('}')[1]\n",
    "            print(elem_tag, end=',')\n",
    "            elem_text = elem.text.replace(stripper, '').replace('\\n', ' ').strip(' \\n\\r')\n",
    "            print(elem_text)\n",
    "            # print(elem_tag, end=',')\n",
    "            # print(f\"{elem.tag.replace(stripper, '')}\", end=',')\n",
    "            # print(f\"{elem.text.replace(stripper, '')}\", end=',')\n",
    "            for child in elem:\n",
    "                # print(f\"{child.tag.replace(stripper, '')}\", end=',')\n",
    "                # print(f\"{child.text.replace(stripper, '')}\", end=',')\n",
    "                for element in child:\n",
    "                    for item in element:\n",
    "                        # print(filePath, end=',')\n",
    "                        # elem_tag = elem.tag.split(\"}\")[1].replace('\\n', ' ').strip(' \\n\\r')\n",
    "                        # elem_tag = elem.tag\n",
    "                        # elem_text = elem.text.replace(stripper, '').replace('\\n', ' ').strip(' \\n\\r')\n",
    "                        # child_tag = child.tag.split(\"}\")[1].replace('\\n', ' ').strip(' \\n\\r')\n",
    "                        # child_text = child.text.replace(stripper, '').replace('\\n', ' ').strip(' \\n\\r')\n",
    "                        # element_tag = element.tag.split(\"}\")[1].replace('\\n', ' ').strip(' \\n\\r')\n",
    "                        # element_text = element.text.replace(stripper, '').replace('\\n', ' ').strip(' \\n\\r')\n",
    "                        # item_tag = item.tag.split(\"}\")[1].replace('\\n', ' ').strip(' \\n\\r')\n",
    "                        # item_text = item.text.replace(stripper, '').replace('\\n', ' ').strip(' \\n\\r')\n",
    "\n",
    "\n",
    "                        # print(elem_tag, end=',')\n",
    "                        # print(elem_text, end=',')\n",
    "                        # print(child_tag, end=',')\n",
    "                        # print(child_text, end=',')\n",
    "                        # print(element_tag, end=',')\n",
    "                        # print(element_text, end=',')\n",
    "                        # print(item_text, end=',')\n",
    "                        # print(item_text, end=',')\n",
    "\n",
    "\n",
    "\n",
    "\n",
    "extract_xml_2(path)"
   ]
  },
  {
   "cell_type": "code",
   "execution_count": null,
   "metadata": {},
   "outputs": [],
   "source": []
  },
  {
   "cell_type": "code",
   "execution_count": null,
   "metadata": {},
   "outputs": [],
   "source": []
  },
  {
   "cell_type": "code",
   "execution_count": null,
   "metadata": {},
   "outputs": [],
   "source": []
  },
  {
   "cell_type": "code",
   "execution_count": null,
   "metadata": {},
   "outputs": [],
   "source": []
  },
  {
   "cell_type": "code",
   "execution_count": null,
   "metadata": {},
   "outputs": [],
   "source": []
  },
  {
   "cell_type": "code",
   "execution_count": 12,
   "metadata": {},
   "outputs": [
    {
     "name": "stdout",
     "output_type": "stream",
     "text": [
      "NBMY620A.xml\n",
      "['ETAPE0010']\n",
      "1\n",
      "['UTMDPN14 - Gestion des pré-requis']\n",
      "['UTMDPN14']\n",
      "\n",
      "\n",
      "['ETAPE0020']\n",
      "1\n",
      "['NBMY0602 - initiate the RO backup']\n",
      "['NBMY0602']\n",
      "\n",
      "\n",
      "NBMY620H.xml\n",
      "['ETAPE0010']\n",
      "1\n",
      "['UTMDPN14 - Gestion des pré-requis']\n",
      "['UTMDPN14']\n",
      "\n",
      "\n",
      "['ETAPE0020']\n",
      "1\n",
      "['Programme NBMY0602']\n",
      "['NBMY0602']\n",
      "\n",
      "\n",
      "NBMY620M.xml\n",
      "['ETAPE0010']\n",
      "1\n",
      "['UTMDPN14 - Gestion des pré-requis']\n",
      "['UTMDPN14']\n",
      "\n",
      "\n",
      "['ETAPE0020']\n",
      "1\n",
      "['Programme NBMY0602']\n",
      "['NBMY0602']\n",
      "\n",
      "\n",
      "NBMY620Q.xml\n",
      "['ETAPE0010']\n",
      "1\n",
      "['UTMDPN14 - Gestion des pré-requis']\n",
      "['UTMDPN14']\n",
      "\n",
      "\n",
      "['ETAPE0020']\n",
      "1\n",
      "['Programme NBMY0602']\n",
      "['NBMY0602']\n",
      "\n",
      "\n",
      "NBMY623Q.xml\n",
      "['ETAPE0010']\n",
      "1\n",
      "['UTMDPN14 - Gestion des pré-requis']\n",
      "['UTMDPN14']\n",
      "\n",
      "\n",
      "NBMY626Q.xml\n",
      "['ETAPE0010']\n",
      "1\n",
      "['UTMDPN14 - Gestion des pré-requis']\n",
      "['UTMDPN14']\n",
      "\n",
      "\n",
      "['ETAPE0020']\n",
      "1\n",
      "['Programme NBMY0004']\n",
      "['NBMY0004']\n",
      "\n",
      "\n",
      "['ETAPE0030']\n",
      "1\n",
      "['Programme NBMY0005']\n",
      "['NBMY0005']\n",
      "\n",
      "\n",
      "NBMY628Q.xml\n",
      "['ETAPE0010']\n",
      "1\n",
      "['UTMDPN14 - Gestion des pré-requis']\n",
      "['UTMDPN14']\n",
      "\n",
      "\n",
      "['ETAPE0020']\n",
      "1\n",
      "['Programme NBMY0004']\n",
      "['NBMY0004']\n",
      "\n",
      "\n",
      "['ETAPE0030']\n",
      "1\n",
      "['Programme NBMY0005']\n",
      "['NBMY0005']\n",
      "\n",
      "\n"
     ]
    }
   ],
   "source": [
    "from bs4 import BeautifulSoup\n",
    "import lxml\n",
    "import xml.etree.ElementTree as ET\n",
    "\n",
    "import os\n",
    "\n",
    "path = r\"C:\\Users\\LI2BTL\\OneDrive - Industrial Alliance\\Documents\\Batch 1\\MODIFIED 625\\OUT\\XML\"\n",
    "\n",
    "# print(os.listdir(path))\n",
    "\n",
    "\n",
    "\n",
    "for file in os.listdir(path):\n",
    "    filePath = f\"{path}\\{file}\"\n",
    "    print(file)\n",
    "\n",
    "    tree = ET.parse(filePath)\n",
    "\n",
    "    root = tree.getroot()\n",
    "\n",
    "    # print(root.tag)\n",
    "\n",
    "    # xml_namespace = root.tag.split('}')\n",
    "    xml_namespace = root.tag[:root.tag.find('}')+1]\n",
    "    #\n",
    "    # print(xml_namespace)\n",
    "\n",
    "    for Etapes in root.findall(xml_namespace+'Etapes'):\n",
    "        for Etape in Etapes.findall(xml_namespace+'Etape'):\n",
    "            # print('\\t' , Etape)\n",
    "            \n",
    "            Nom_tag = [Nom.text for Nom in Etape.findall(xml_namespace+'Nom')]\n",
    "            Description_tag = [Description.text for Description in Etape.findall(xml_namespace+'Description')]\n",
    "            Programme_tag = [Programme.text for Programme in Etape.findall(xml_namespace+'Programme')]\n",
    "            \n",
    "            print(Nom_tag)\n",
    "            print(len(Nom_tag))\n",
    "            print(Description_tag)\n",
    "            print(Programme_tag)\n",
    "            print('\\n')\n",
    "            \n",
    "#             for Nom in Etape.findall(xml_namespace+'Nom'):\n",
    "#                 print('\\t\\t', Nom.text)\n",
    "            \n",
    "#             for Description in Etape.findall(xml_namespace+'Description'):\n",
    "#                 print('\\t\\t', Description.text)\n",
    "                \n",
    "#             for Nom in Etape.findall(xml_namespace+'Nom'):\n",
    "#                 print('\\t\\t', Nom.text)"
   ]
  },
  {
   "cell_type": "code",
   "execution_count": null,
   "metadata": {},
   "outputs": [],
   "source": []
  }
 ],
 "metadata": {
  "kernelspec": {
   "display_name": "Python 3",
   "language": "python",
   "name": "python3"
  },
  "language_info": {
   "codemirror_mode": {
    "name": "ipython",
    "version": 3
   },
   "file_extension": ".py",
   "mimetype": "text/x-python",
   "name": "python",
   "nbconvert_exporter": "python",
   "pygments_lexer": "ipython3",
   "version": "3.8.5"
  }
 },
 "nbformat": 4,
 "nbformat_minor": 4
}
