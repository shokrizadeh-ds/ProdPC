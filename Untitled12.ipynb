{
 "cells": [
  {
   "cell_type": "code",
   "execution_count": 8,
   "metadata": {},
   "outputs": [],
   "source": [
    "import os"
   ]
  },
  {
   "cell_type": "code",
   "execution_count": 9,
   "metadata": {},
   "outputs": [],
   "source": [
    "path = r'C:\\Users\\LI2BTL\\OneDrive - Industrial Alliance\\Documents\\EL Kabir\\Python\\INI Original'"
   ]
  },
  {
   "cell_type": "code",
   "execution_count": 10,
   "metadata": {},
   "outputs": [
    {
     "data": {
      "text/plain": [
       "['IINM003Q.INI',\n",
       " 'IINM008Q.INI',\n",
       " 'IINM013Q.INI',\n",
       " 'IINM015Q.INI',\n",
       " 'IINM019Q.INI',\n",
       " 'IINM024Q.INI',\n",
       " 'IINM027M.INI',\n",
       " 'IINM028H.ini',\n",
       " 'IINM511Q.INI',\n",
       " 'IINM900Q.INI',\n",
       " 'NINM012Q.INI',\n",
       " 'NINM023M.INI',\n",
       " 'NINM036Q.INI']"
      ]
     },
     "execution_count": 10,
     "metadata": {},
     "output_type": "execute_result"
    }
   ],
   "source": [
    "os.listdir(path)"
   ]
  },
  {
   "cell_type": "code",
   "execution_count": 11,
   "metadata": {},
   "outputs": [],
   "source": [
    "os.chdir(path)"
   ]
  },
  {
   "cell_type": "code",
   "execution_count": 13,
   "metadata": {},
   "outputs": [],
   "source": [
    "for file in os.listdir(path):\n",
    "    with open(file, 'a+') as f:\n",
    "        f.write('\\n')\n",
    "        f.write('\\n[UTMDPN14]')"
   ]
  },
  {
   "cell_type": "code",
   "execution_count": 15,
   "metadata": {},
   "outputs": [],
   "source": [
    "jobs024 = [\"IINM025Q\", \"IINM027M\", \"IINM050Q\", \"iinm400q\", \"iinm401q\", \"iinm402q\", \"iinm403q\", \"ninm024q\", \"ninm025q\", \"ninm050q\", \"ninm400q\", \"ninm401q\", \"ninm402q\", \"ninm403q\", \"tinm024q\", \"tinm025q\", \"tinm027m\", \"tinm050q\", \"tinm400q\", \"tinm401q\", \"tinm402q\", \"tinm403q\"]"
   ]
  },
  {
   "cell_type": "code",
   "execution_count": 3,
   "metadata": {},
   "outputs": [],
   "source": [
    "path = r'C:\\Users\\LI2BTL\\OneDrive - Industrial Alliance\\Documents\\Tide Test\\Final\\OUTPUT\\INI OUT\\Copied INI\\024'"
   ]
  },
  {
   "cell_type": "code",
   "execution_count": 5,
   "metadata": {},
   "outputs": [],
   "source": [
    "import os\n",
    "os.chdir(r'C:\\Users\\LI2BTL')"
   ]
  },
  {
   "cell_type": "code",
   "execution_count": 9,
   "metadata": {},
   "outputs": [],
   "source": [
    "from jinja2 import Environment, FileSystemLoader\n",
    "\n",
    "Template_file = 'INI024_Template_Jinja.txt'\n",
    "\n",
    "file_loader = FileSystemLoader(r'C:\\Users\\LI2BTL\\template')\n",
    "\n",
    "env = Environment(loader=file_loader)\n",
    "\n",
    "template = env.get_template(Template_file)\n",
    "\n",
    "# prodpc={'name' : 'NG1Y800M'}\n",
    "# output = template.render(prodpc=prodpc)\n",
    "\n",
    "job = {'jb': jobs024}"
   ]
  },
  {
   "cell_type": "code",
   "execution_count": 11,
   "metadata": {},
   "outputs": [
    {
     "data": {
      "text/plain": [
       "<Template 'INI024_Template_Jinja.txt'>"
      ]
     },
     "execution_count": 11,
     "metadata": {},
     "output_type": "execute_result"
    }
   ],
   "source": [
    "template"
   ]
  },
  {
   "cell_type": "code",
   "execution_count": 12,
   "metadata": {},
   "outputs": [
    {
     "ename": "TypeError",
     "evalue": "expected str, bytes or os.PathLike object, not Template",
     "output_type": "error",
     "traceback": [
      "\u001b[1;31m---------------------------------------------------------------------------\u001b[0m",
      "\u001b[1;31mTypeError\u001b[0m                                 Traceback (most recent call last)",
      "\u001b[1;32m<ipython-input-12-dee76157d0fc>\u001b[0m in \u001b[0;36m<module>\u001b[1;34m\u001b[0m\n\u001b[1;32m----> 1\u001b[1;33m \u001b[1;32mwith\u001b[0m \u001b[0mopen\u001b[0m\u001b[1;33m(\u001b[0m\u001b[0mtemplate\u001b[0m\u001b[1;33m,\u001b[0m \u001b[1;34m'r'\u001b[0m\u001b[1;33m)\u001b[0m \u001b[1;32mas\u001b[0m \u001b[0mf\u001b[0m\u001b[1;33m:\u001b[0m\u001b[1;33m\u001b[0m\u001b[1;33m\u001b[0m\u001b[0m\n\u001b[0m\u001b[0;32m      2\u001b[0m     \u001b[0md\u001b[0m \u001b[1;33m=\u001b[0m \u001b[0mf\u001b[0m\u001b[1;33m.\u001b[0m\u001b[0mread\u001b[0m\u001b[1;33m(\u001b[0m\u001b[1;33m)\u001b[0m\u001b[1;33m\u001b[0m\u001b[1;33m\u001b[0m\u001b[0m\n\u001b[0;32m      3\u001b[0m \u001b[1;33m\u001b[0m\u001b[0m\n\u001b[0;32m      4\u001b[0m \u001b[0md\u001b[0m\u001b[1;33m\u001b[0m\u001b[1;33m\u001b[0m\u001b[0m\n",
      "\u001b[1;31mTypeError\u001b[0m: expected str, bytes or os.PathLike object, not Template"
     ]
    }
   ],
   "source": []
  },
  {
   "cell_type": "code",
   "execution_count": null,
   "metadata": {},
   "outputs": [],
   "source": []
  },
  {
   "cell_type": "code",
   "execution_count": null,
   "metadata": {},
   "outputs": [],
   "source": []
  },
  {
   "cell_type": "code",
   "execution_count": null,
   "metadata": {},
   "outputs": [],
   "source": []
  },
  {
   "cell_type": "code",
   "execution_count": 13,
   "metadata": {},
   "outputs": [],
   "source": [
    "import os"
   ]
  },
  {
   "cell_type": "code",
   "execution_count": 17,
   "metadata": {},
   "outputs": [],
   "source": [
    "xml_file = r'C:\\Users\\LI2BTL\\OneDrive - Industrial Alliance\\Documents\\Tide Test\\Final\\OUTPUT\\XML\\IINM024Q.xml'\n",
    "\n",
    "with open(xml_file, 'r') as f:\n",
    "    content = f.read()"
   ]
  },
  {
   "cell_type": "code",
   "execution_count": 16,
   "metadata": {},
   "outputs": [
    {
     "data": {
      "text/plain": [
       "['IINM025Q.XML',\n",
       " 'IINM027M.XML',\n",
       " 'IINM050Q.XML',\n",
       " 'iinm400q.XML',\n",
       " 'iinm401q.XML',\n",
       " 'iinm402q.XML',\n",
       " 'iinm403q.XML',\n",
       " 'ninm024q.XML',\n",
       " 'ninm025q.XML',\n",
       " 'ninm050q.XML',\n",
       " 'ninm400q.XML',\n",
       " 'ninm401q.XML',\n",
       " 'ninm402q.XML',\n",
       " 'ninm403q.XML',\n",
       " 'tinm024q.XML',\n",
       " 'tinm025q.XML',\n",
       " 'tinm027m.XML',\n",
       " 'tinm050q.XML',\n",
       " 'tinm400q.XML',\n",
       " 'tinm401q.XML',\n",
       " 'tinm402q.XML',\n",
       " 'tinm403q.XML']"
      ]
     },
     "execution_count": 16,
     "metadata": {},
     "output_type": "execute_result"
    }
   ],
   "source": [
    "xml_list = [f\"{i}.XML\" for i in jobs024]\n",
    "xml_list"
   ]
  },
  {
   "cell_type": "code",
   "execution_count": 18,
   "metadata": {},
   "outputs": [],
   "source": [
    "p = r'C:\\Users\\LI2BTL\\OneDrive - Industrial Alliance\\Documents\\Tide Test\\Final\\OUTPUT\\INI OUT\\Copied INI\\024\\XML'\n",
    "os.chdir(p)\n",
    "\n",
    "for file in xml_list:\n",
    "    with open(file, 'w') as f:\n",
    "        f.write(content)"
   ]
  },
  {
   "cell_type": "code",
   "execution_count": 19,
   "metadata": {},
   "outputs": [
    {
     "data": {
      "text/plain": [
       "7"
      ]
     },
     "execution_count": 19,
     "metadata": {},
     "output_type": "execute_result"
    }
   ],
   "source": [
    "t = r'C:\\Users\\LI2BTL\\OneDrive - Industrial Alliance\\Documents\\Tide Test\\Final\\OUTPUT\\XML'\n",
    "\n",
    "len(os.listdir(t))"
   ]
  },
  {
   "cell_type": "code",
   "execution_count": 22,
   "metadata": {},
   "outputs": [
    {
     "data": {
      "text/plain": [
       "[('C:\\\\Users\\\\LI2BTL\\\\OneDrive - Industrial Alliance\\\\Documents\\\\Tide Test\\\\Final\\\\OUTPUT\\\\XML',\n",
       "  ['Copied XML'],\n",
       "  ['IINM003Q.xml',\n",
       "   'IINM019Q.xml',\n",
       "   'IINM024Q.xml',\n",
       "   'IINM027M.xml',\n",
       "   'IINM028H.xml',\n",
       "   'IINM511Q.xml']),\n",
       " ('C:\\\\Users\\\\LI2BTL\\\\OneDrive - Industrial Alliance\\\\Documents\\\\Tide Test\\\\Final\\\\OUTPUT\\\\XML\\\\Copied XML',\n",
       "  ['024'],\n",
       "  ['NINM003Q.xml',\n",
       "   'NINM019Q.xml',\n",
       "   'NINM024Q.xml',\n",
       "   'NINM027M.xml',\n",
       "   'NINM028H.xml',\n",
       "   'NINM511Q.xml',\n",
       "   'TINM003Q.xml',\n",
       "   'TINM019Q.xml',\n",
       "   'TINM028H.xml',\n",
       "   'TINM511Q.xml']),\n",
       " ('C:\\\\Users\\\\LI2BTL\\\\OneDrive - Industrial Alliance\\\\Documents\\\\Tide Test\\\\Final\\\\OUTPUT\\\\XML\\\\Copied XML\\\\024',\n",
       "  [],\n",
       "  ['IINM025Q.XML',\n",
       "   'IINM027M.XML',\n",
       "   'IINM050Q.XML',\n",
       "   'iinm400q.XML',\n",
       "   'iinm401q.XML',\n",
       "   'iinm402q.XML',\n",
       "   'iinm403q.XML',\n",
       "   'ninm024q.XML',\n",
       "   'ninm025q.XML',\n",
       "   'ninm050q.XML',\n",
       "   'ninm400q.XML',\n",
       "   'ninm401q.XML',\n",
       "   'ninm402q.XML',\n",
       "   'ninm403q.XML',\n",
       "   'tinm024q.XML',\n",
       "   'tinm025q.XML',\n",
       "   'tinm027m.XML',\n",
       "   'tinm050q.XML',\n",
       "   'tinm400q.XML',\n",
       "   'tinm401q.XML',\n",
       "   'tinm402q.XML',\n",
       "   'tinm403q.XML'])]"
      ]
     },
     "execution_count": 22,
     "metadata": {},
     "output_type": "execute_result"
    }
   ],
   "source": [
    "list(os.walk(t))"
   ]
  },
  {
   "cell_type": "code",
   "execution_count": 24,
   "metadata": {},
   "outputs": [
    {
     "name": "stdout",
     "output_type": "stream",
     "text": [
      "6\n",
      "10\n",
      "22\n"
     ]
    }
   ],
   "source": [
    "for i in list(os.walk(t)):\n",
    "    print(len(i[2]))"
   ]
  },
  {
   "cell_type": "code",
   "execution_count": 25,
   "metadata": {},
   "outputs": [
    {
     "data": {
      "text/plain": [
       "38"
      ]
     },
     "execution_count": 25,
     "metadata": {},
     "output_type": "execute_result"
    }
   ],
   "source": [
    "6 +10 + 22"
   ]
  },
  {
   "cell_type": "code",
   "execution_count": 6,
   "metadata": {},
   "outputs": [
    {
     "name": "stdout",
     "output_type": "stream",
     "text": [
      "['IINM003Q.xml', 'IINM019Q.xml', 'IINM024Q.xml', 'IINM027M.xml', 'IINM028H.xml', 'IINM511Q.xml']\n",
      "['NINM003Q.xml', 'NINM019Q.xml', 'NINM024Q.xml', 'NINM027M.xml', 'NINM028H.xml', 'NINM511Q.xml', 'TINM003Q.xml', 'TINM019Q.xml', 'TINM028H.xml', 'TINM511Q.xml']\n",
      "['IINM025Q.XML', 'IINM027M.XML', 'IINM050Q.XML', 'iinm400q.XML', 'iinm401q.XML', 'iinm402q.XML', 'iinm403q.XML', 'ninm024q.XML', 'ninm025q.XML', 'ninm050q.XML', 'ninm400q.XML', 'ninm401q.XML', 'ninm402q.XML', 'ninm403q.XML', 'tinm024q.XML', 'tinm025q.XML', 'tinm027m.XML', 'tinm050q.XML', 'tinm400q.XML', 'tinm401q.XML', 'tinm402q.XML', 'tinm403q.XML']\n"
     ]
    }
   ],
   "source": [
    "import os\n",
    "t = r'C:\\Users\\LI2BTL\\OneDrive - Industrial Alliance\\Documents\\Tide Test\\Final\\OUTPUT\\XML'\n",
    "\n",
    "ls = []\n",
    "for i in list(os.walk(t)):\n",
    "    print(i[2])\n",
    "    ls.extend(i[2])"
   ]
  },
  {
   "cell_type": "code",
   "execution_count": 7,
   "metadata": {},
   "outputs": [
    {
     "data": {
      "text/plain": [
       "['IINM003Q.xml',\n",
       " 'IINM019Q.xml',\n",
       " 'IINM024Q.xml',\n",
       " 'IINM027M.xml',\n",
       " 'IINM028H.xml',\n",
       " 'IINM511Q.xml',\n",
       " 'NINM003Q.xml',\n",
       " 'NINM019Q.xml',\n",
       " 'NINM024Q.xml',\n",
       " 'NINM027M.xml',\n",
       " 'NINM028H.xml',\n",
       " 'NINM511Q.xml',\n",
       " 'TINM003Q.xml',\n",
       " 'TINM019Q.xml',\n",
       " 'TINM028H.xml',\n",
       " 'TINM511Q.xml',\n",
       " 'IINM025Q.XML',\n",
       " 'IINM027M.XML',\n",
       " 'IINM050Q.XML',\n",
       " 'iinm400q.XML',\n",
       " 'iinm401q.XML',\n",
       " 'iinm402q.XML',\n",
       " 'iinm403q.XML',\n",
       " 'ninm024q.XML',\n",
       " 'ninm025q.XML',\n",
       " 'ninm050q.XML',\n",
       " 'ninm400q.XML',\n",
       " 'ninm401q.XML',\n",
       " 'ninm402q.XML',\n",
       " 'ninm403q.XML',\n",
       " 'tinm024q.XML',\n",
       " 'tinm025q.XML',\n",
       " 'tinm027m.XML',\n",
       " 'tinm050q.XML',\n",
       " 'tinm400q.XML',\n",
       " 'tinm401q.XML',\n",
       " 'tinm402q.XML',\n",
       " 'tinm403q.XML']"
      ]
     },
     "execution_count": 7,
     "metadata": {},
     "output_type": "execute_result"
    }
   ],
   "source": [
    "ls"
   ]
  },
  {
   "cell_type": "code",
   "execution_count": 8,
   "metadata": {},
   "outputs": [],
   "source": [
    "ls2 = [\"IINM003Q.WBT\", \"NINM003Q.WBT\", \"TINM003Q.WBT\", \"IINM005Q.WBT\", \"NINM005Q.WBT\", \"TINM005Q.WBT\", \"IINM008Q.WBT\", \"NINM008Q.WBT\", \"Tinm008q.wbt\", \"NINM012Q.WBT\", \"Tinm012q.wbt\", \"IINM013Q.WBT\", \"NINM013Q.WBT\", \"Tinm013q.wbt\", \"IINM015Q.WBT\", \"NINM015Q.WBT\", \"TINM015Q.WBT\", \"IINM019Q.WBT\", \"NINM019Q.WBT\", \"TINM019Q.WBT\", \"IINM023M.WBT\", \"NINM023M.WBT\", \"TINM023M.WBT\", \"IINM025Q.WBT\", \"IINM027M.WBT\", \"IINM050Q.WBT\", \"iinm400q.wbt\", \"iinm401q.wbt\", \"iinm402q.wbt\", \"iinm403q.wbt\", \"ninm024q.wbt\", \"ninm025q.wbt\", \"ninm050q.wbt\", \"ninm400q.wbt\", \"ninm401q.wbt\", \"ninm402q.wbt\", \"ninm403q.wbt\", \"tinm024q.wbt\", \"tinm025q.wbt\", \"tinm027m.wbt\", \"tinm050q.wbt\", \"tinm400q.wbt\", \"tinm401q.wbt\", \"tinm402q.wbt\", \"tinm403q.wbt\", \"ninm027m.wbt\", \"IINM028H.wbt\", \"TINM028H.wbt\", \"NINM034D.WBT\", \"TINM034D.WBT\", \"IINM034D.WBT\", \"IINM034Q.WBT\", \"NINM034Q.WBT\", \"Tinm034q.wbt\", \"IINM036Q.WBT\", \"NINM036Q.WBT\", \"TINM036Q.WBT\", \"IINM098Q.WBT\", \"NINM098Q.WBT\", \"TINM098Q.WBT\", \"IINM099Q.WBT\", \"NINM099Q.WBT\", \"TINM099Q.WBT\", \"IINM511Q.WBT\", \"NINM511Q.WBT\", \"TINM511Q.WBT\", \"IINM900Q.WBT\", \"IINM901Q.WBT\", \"IINM902M.WBT\", \"NINM900Q.WBT\", \"NINM901Q.WBT\", \"NINM902M.WBT\", \"TINM900Q.WBT\", \"TINM901Q.WBT\", \"TINM902M.WBT\"]"
   ]
  },
  {
   "cell_type": "code",
   "execution_count": 9,
   "metadata": {},
   "outputs": [],
   "source": [
    "f = \"sds\""
   ]
  },
  {
   "cell_type": "code",
   "execution_count": 10,
   "metadata": {},
   "outputs": [
    {
     "data": {
      "text/plain": [
       "'s2s'"
      ]
     },
     "execution_count": 10,
     "metadata": {},
     "output_type": "execute_result"
    }
   ],
   "source": [
    "f.replace(\"d\", \"2\")"
   ]
  },
  {
   "cell_type": "code",
   "execution_count": 13,
   "metadata": {},
   "outputs": [],
   "source": [
    "\n",
    "ls_m = [i.replace(\"xml\", \"WBT\") for i in ls]"
   ]
  },
  {
   "cell_type": "code",
   "execution_count": 15,
   "metadata": {},
   "outputs": [],
   "source": [
    "ls_m = [i.replace(\"XML\", \"WBT\") for i in ls_m]"
   ]
  },
  {
   "cell_type": "code",
   "execution_count": 16,
   "metadata": {},
   "outputs": [
    {
     "data": {
      "text/plain": [
       "['IINM003Q.WBT',\n",
       " 'IINM019Q.WBT',\n",
       " 'IINM024Q.WBT',\n",
       " 'IINM027M.WBT',\n",
       " 'IINM028H.WBT',\n",
       " 'IINM511Q.WBT',\n",
       " 'NINM003Q.WBT',\n",
       " 'NINM019Q.WBT',\n",
       " 'NINM024Q.WBT',\n",
       " 'NINM027M.WBT',\n",
       " 'NINM028H.WBT',\n",
       " 'NINM511Q.WBT',\n",
       " 'TINM003Q.WBT',\n",
       " 'TINM019Q.WBT',\n",
       " 'TINM028H.WBT',\n",
       " 'TINM511Q.WBT',\n",
       " 'IINM025Q.WBT',\n",
       " 'IINM027M.WBT',\n",
       " 'IINM050Q.WBT',\n",
       " 'iinm400q.WBT',\n",
       " 'iinm401q.WBT',\n",
       " 'iinm402q.WBT',\n",
       " 'iinm403q.WBT',\n",
       " 'ninm024q.WBT',\n",
       " 'ninm025q.WBT',\n",
       " 'ninm050q.WBT',\n",
       " 'ninm400q.WBT',\n",
       " 'ninm401q.WBT',\n",
       " 'ninm402q.WBT',\n",
       " 'ninm403q.WBT',\n",
       " 'tinm024q.WBT',\n",
       " 'tinm025q.WBT',\n",
       " 'tinm027m.WBT',\n",
       " 'tinm050q.WBT',\n",
       " 'tinm400q.WBT',\n",
       " 'tinm401q.WBT',\n",
       " 'tinm402q.WBT',\n",
       " 'tinm403q.WBT']"
      ]
     },
     "execution_count": 16,
     "metadata": {},
     "output_type": "execute_result"
    }
   ],
   "source": [
    "ls_m"
   ]
  },
  {
   "cell_type": "code",
   "execution_count": 18,
   "metadata": {},
   "outputs": [],
   "source": [
    "diff = [i for i in ls2 if i not in ls_m]"
   ]
  },
  {
   "cell_type": "code",
   "execution_count": 19,
   "metadata": {},
   "outputs": [
    {
     "data": {
      "text/plain": [
       "['IINM005Q.WBT',\n",
       " 'NINM005Q.WBT',\n",
       " 'TINM005Q.WBT',\n",
       " 'IINM008Q.WBT',\n",
       " 'NINM008Q.WBT',\n",
       " 'Tinm008q.wbt',\n",
       " 'NINM012Q.WBT',\n",
       " 'Tinm012q.wbt',\n",
       " 'IINM013Q.WBT',\n",
       " 'NINM013Q.WBT',\n",
       " 'Tinm013q.wbt',\n",
       " 'IINM015Q.WBT',\n",
       " 'NINM015Q.WBT',\n",
       " 'TINM015Q.WBT',\n",
       " 'IINM023M.WBT',\n",
       " 'NINM023M.WBT',\n",
       " 'TINM023M.WBT',\n",
       " 'iinm400q.wbt',\n",
       " 'iinm401q.wbt',\n",
       " 'iinm402q.wbt',\n",
       " 'iinm403q.wbt',\n",
       " 'ninm024q.wbt',\n",
       " 'ninm025q.wbt',\n",
       " 'ninm050q.wbt',\n",
       " 'ninm400q.wbt',\n",
       " 'ninm401q.wbt',\n",
       " 'ninm402q.wbt',\n",
       " 'ninm403q.wbt',\n",
       " 'tinm024q.wbt',\n",
       " 'tinm025q.wbt',\n",
       " 'tinm027m.wbt',\n",
       " 'tinm050q.wbt',\n",
       " 'tinm400q.wbt',\n",
       " 'tinm401q.wbt',\n",
       " 'tinm402q.wbt',\n",
       " 'tinm403q.wbt',\n",
       " 'ninm027m.wbt',\n",
       " 'IINM028H.wbt',\n",
       " 'TINM028H.wbt',\n",
       " 'NINM034D.WBT',\n",
       " 'TINM034D.WBT',\n",
       " 'IINM034D.WBT',\n",
       " 'IINM034Q.WBT',\n",
       " 'NINM034Q.WBT',\n",
       " 'Tinm034q.wbt',\n",
       " 'IINM036Q.WBT',\n",
       " 'NINM036Q.WBT',\n",
       " 'TINM036Q.WBT',\n",
       " 'IINM098Q.WBT',\n",
       " 'NINM098Q.WBT',\n",
       " 'TINM098Q.WBT',\n",
       " 'IINM099Q.WBT',\n",
       " 'NINM099Q.WBT',\n",
       " 'TINM099Q.WBT',\n",
       " 'IINM900Q.WBT',\n",
       " 'IINM901Q.WBT',\n",
       " 'IINM902M.WBT',\n",
       " 'NINM900Q.WBT',\n",
       " 'NINM901Q.WBT',\n",
       " 'NINM902M.WBT',\n",
       " 'TINM900Q.WBT',\n",
       " 'TINM901Q.WBT',\n",
       " 'TINM902M.WBT']"
      ]
     },
     "execution_count": 19,
     "metadata": {},
     "output_type": "execute_result"
    }
   ],
   "source": [
    "diff"
   ]
  },
  {
   "cell_type": "code",
   "execution_count": null,
   "metadata": {},
   "outputs": [],
   "source": []
  }
 ],
 "metadata": {
  "kernelspec": {
   "display_name": "Python 3",
   "language": "python",
   "name": "python3"
  },
  "language_info": {
   "codemirror_mode": {
    "name": "ipython",
    "version": 3
   },
   "file_extension": ".py",
   "mimetype": "text/x-python",
   "name": "python",
   "nbconvert_exporter": "python",
   "pygments_lexer": "ipython3",
   "version": "3.8.5"
  }
 },
 "nbformat": 4,
 "nbformat_minor": 4
}
